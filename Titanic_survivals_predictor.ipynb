{
 "cells": [
  {
   "cell_type": "code",
   "execution_count": 1,
   "id": "f2088f34",
   "metadata": {},
   "outputs": [],
   "source": [
    "# useful lib\n",
    "import pandas as pd\n",
    "import seaborn as sns\n",
    "import matplotlib.pyplot as plt\n",
    "pd.set_option('display.max_columns',None)\n",
    "from sklearn.model_selection import train_test_split\n",
    "from sklearn import metrics\n",
    "from sklearn.linear_model import LogisticRegression\n",
    "from sklearn.metrics import accuracy_score\n",
    "from sklearn.metrics import classification_report\n",
    "import statsmodels.formula.api as smf\n",
    "from sklearn.metrics import roc_curve, roc_auc_score"
   ]
  },
  {
   "cell_type": "code",
   "execution_count": 2,
   "id": "79f20d8e",
   "metadata": {},
   "outputs": [
    {
     "data": {
      "text/html": [
       "<div>\n",
       "<style scoped>\n",
       "    .dataframe tbody tr th:only-of-type {\n",
       "        vertical-align: middle;\n",
       "    }\n",
       "\n",
       "    .dataframe tbody tr th {\n",
       "        vertical-align: top;\n",
       "    }\n",
       "\n",
       "    .dataframe thead th {\n",
       "        text-align: right;\n",
       "    }\n",
       "</style>\n",
       "<table border=\"1\" class=\"dataframe\">\n",
       "  <thead>\n",
       "    <tr style=\"text-align: right;\">\n",
       "      <th></th>\n",
       "      <th>PassengerId</th>\n",
       "      <th>Survived</th>\n",
       "      <th>Pclass</th>\n",
       "      <th>Name</th>\n",
       "      <th>Sex</th>\n",
       "      <th>Age</th>\n",
       "      <th>SibSp</th>\n",
       "      <th>Parch</th>\n",
       "      <th>Ticket</th>\n",
       "      <th>Fare</th>\n",
       "      <th>Cabin</th>\n",
       "      <th>Embarked</th>\n",
       "    </tr>\n",
       "  </thead>\n",
       "  <tbody>\n",
       "    <tr>\n",
       "      <th>0</th>\n",
       "      <td>343</td>\n",
       "      <td>No</td>\n",
       "      <td>2</td>\n",
       "      <td>Collander, Mr. Erik Gustaf</td>\n",
       "      <td>male</td>\n",
       "      <td>28.0</td>\n",
       "      <td>0</td>\n",
       "      <td>0</td>\n",
       "      <td>248740</td>\n",
       "      <td>13.0000</td>\n",
       "      <td>NaN</td>\n",
       "      <td>S</td>\n",
       "    </tr>\n",
       "    <tr>\n",
       "      <th>1</th>\n",
       "      <td>76</td>\n",
       "      <td>No</td>\n",
       "      <td>3</td>\n",
       "      <td>Moen, Mr. Sigurd Hansen</td>\n",
       "      <td>male</td>\n",
       "      <td>25.0</td>\n",
       "      <td>0</td>\n",
       "      <td>0</td>\n",
       "      <td>348123</td>\n",
       "      <td>7.6500</td>\n",
       "      <td>F G73</td>\n",
       "      <td>S</td>\n",
       "    </tr>\n",
       "    <tr>\n",
       "      <th>2</th>\n",
       "      <td>641</td>\n",
       "      <td>No</td>\n",
       "      <td>3</td>\n",
       "      <td>Jensen, Mr. Hans Peder</td>\n",
       "      <td>male</td>\n",
       "      <td>20.0</td>\n",
       "      <td>0</td>\n",
       "      <td>0</td>\n",
       "      <td>350050</td>\n",
       "      <td>7.8542</td>\n",
       "      <td>NaN</td>\n",
       "      <td>S</td>\n",
       "    </tr>\n",
       "    <tr>\n",
       "      <th>3</th>\n",
       "      <td>568</td>\n",
       "      <td>No</td>\n",
       "      <td>3</td>\n",
       "      <td>Palsson, Mrs. Nils (Alma Cornelia Berglund)</td>\n",
       "      <td>female</td>\n",
       "      <td>29.0</td>\n",
       "      <td>0</td>\n",
       "      <td>4</td>\n",
       "      <td>349909</td>\n",
       "      <td>21.0750</td>\n",
       "      <td>NaN</td>\n",
       "      <td>S</td>\n",
       "    </tr>\n",
       "    <tr>\n",
       "      <th>4</th>\n",
       "      <td>672</td>\n",
       "      <td>No</td>\n",
       "      <td>1</td>\n",
       "      <td>Davidson, Mr. Thornton</td>\n",
       "      <td>male</td>\n",
       "      <td>31.0</td>\n",
       "      <td>1</td>\n",
       "      <td>0</td>\n",
       "      <td>F.C. 12750</td>\n",
       "      <td>52.0000</td>\n",
       "      <td>B71</td>\n",
       "      <td>S</td>\n",
       "    </tr>\n",
       "    <tr>\n",
       "      <th>...</th>\n",
       "      <td>...</td>\n",
       "      <td>...</td>\n",
       "      <td>...</td>\n",
       "      <td>...</td>\n",
       "      <td>...</td>\n",
       "      <td>...</td>\n",
       "      <td>...</td>\n",
       "      <td>...</td>\n",
       "      <td>...</td>\n",
       "      <td>...</td>\n",
       "      <td>...</td>\n",
       "      <td>...</td>\n",
       "    </tr>\n",
       "    <tr>\n",
       "      <th>886</th>\n",
       "      <td>10</td>\n",
       "      <td>Yes</td>\n",
       "      <td>2</td>\n",
       "      <td>Nasser, Mrs. Nicholas (Adele Achem)</td>\n",
       "      <td>female</td>\n",
       "      <td>14.0</td>\n",
       "      <td>1</td>\n",
       "      <td>0</td>\n",
       "      <td>237736</td>\n",
       "      <td>30.0708</td>\n",
       "      <td>NaN</td>\n",
       "      <td>C</td>\n",
       "    </tr>\n",
       "    <tr>\n",
       "      <th>887</th>\n",
       "      <td>61</td>\n",
       "      <td>No</td>\n",
       "      <td>3</td>\n",
       "      <td>Sirayanian, Mr. Orsen</td>\n",
       "      <td>male</td>\n",
       "      <td>22.0</td>\n",
       "      <td>0</td>\n",
       "      <td>0</td>\n",
       "      <td>2669</td>\n",
       "      <td>7.2292</td>\n",
       "      <td>NaN</td>\n",
       "      <td>C</td>\n",
       "    </tr>\n",
       "    <tr>\n",
       "      <th>888</th>\n",
       "      <td>535</td>\n",
       "      <td>No</td>\n",
       "      <td>3</td>\n",
       "      <td>Cacic, Miss. Marija</td>\n",
       "      <td>female</td>\n",
       "      <td>30.0</td>\n",
       "      <td>0</td>\n",
       "      <td>0</td>\n",
       "      <td>315084</td>\n",
       "      <td>8.6625</td>\n",
       "      <td>NaN</td>\n",
       "      <td>S</td>\n",
       "    </tr>\n",
       "    <tr>\n",
       "      <th>889</th>\n",
       "      <td>102</td>\n",
       "      <td>No</td>\n",
       "      <td>3</td>\n",
       "      <td>Petroff, Mr. Pastcho (\"Pentcho\")</td>\n",
       "      <td>male</td>\n",
       "      <td>NaN</td>\n",
       "      <td>0</td>\n",
       "      <td>0</td>\n",
       "      <td>349215</td>\n",
       "      <td>7.8958</td>\n",
       "      <td>NaN</td>\n",
       "      <td>S</td>\n",
       "    </tr>\n",
       "    <tr>\n",
       "      <th>890</th>\n",
       "      <td>428</td>\n",
       "      <td>Yes</td>\n",
       "      <td>2</td>\n",
       "      <td>Phillips, Miss. Kate Florence (\"Mrs Kate Louis...</td>\n",
       "      <td>female</td>\n",
       "      <td>19.0</td>\n",
       "      <td>0</td>\n",
       "      <td>0</td>\n",
       "      <td>250655</td>\n",
       "      <td>26.0000</td>\n",
       "      <td>NaN</td>\n",
       "      <td>S</td>\n",
       "    </tr>\n",
       "  </tbody>\n",
       "</table>\n",
       "<p>891 rows × 12 columns</p>\n",
       "</div>"
      ],
      "text/plain": [
       "     PassengerId Survived  Pclass  \\\n",
       "0            343       No       2   \n",
       "1             76       No       3   \n",
       "2            641       No       3   \n",
       "3            568       No       3   \n",
       "4            672       No       1   \n",
       "..           ...      ...     ...   \n",
       "886           10      Yes       2   \n",
       "887           61       No       3   \n",
       "888          535       No       3   \n",
       "889          102       No       3   \n",
       "890          428      Yes       2   \n",
       "\n",
       "                                                  Name     Sex   Age  SibSp  \\\n",
       "0                           Collander, Mr. Erik Gustaf    male  28.0      0   \n",
       "1                              Moen, Mr. Sigurd Hansen    male  25.0      0   \n",
       "2                               Jensen, Mr. Hans Peder    male  20.0      0   \n",
       "3          Palsson, Mrs. Nils (Alma Cornelia Berglund)  female  29.0      0   \n",
       "4                               Davidson, Mr. Thornton    male  31.0      1   \n",
       "..                                                 ...     ...   ...    ...   \n",
       "886                Nasser, Mrs. Nicholas (Adele Achem)  female  14.0      1   \n",
       "887                              Sirayanian, Mr. Orsen    male  22.0      0   \n",
       "888                                Cacic, Miss. Marija  female  30.0      0   \n",
       "889                   Petroff, Mr. Pastcho (\"Pentcho\")    male   NaN      0   \n",
       "890  Phillips, Miss. Kate Florence (\"Mrs Kate Louis...  female  19.0      0   \n",
       "\n",
       "     Parch      Ticket     Fare  Cabin Embarked  \n",
       "0        0      248740  13.0000    NaN        S  \n",
       "1        0      348123   7.6500  F G73        S  \n",
       "2        0      350050   7.8542    NaN        S  \n",
       "3        4      349909  21.0750    NaN        S  \n",
       "4        0  F.C. 12750  52.0000    B71        S  \n",
       "..     ...         ...      ...    ...      ...  \n",
       "886      0      237736  30.0708    NaN        C  \n",
       "887      0        2669   7.2292    NaN        C  \n",
       "888      0      315084   8.6625    NaN        S  \n",
       "889      0      349215   7.8958    NaN        S  \n",
       "890      0      250655  26.0000    NaN        S  \n",
       "\n",
       "[891 rows x 12 columns]"
      ]
     },
     "execution_count": 2,
     "metadata": {},
     "output_type": "execute_result"
    }
   ],
   "source": [
    "# Read the csv file\n",
    "df= pd.read_csv(\"titanic-passengers.csv\", sep=';')\n",
    "df"
   ]
  },
  {
   "cell_type": "code",
   "execution_count": 3,
   "id": "981200bb",
   "metadata": {},
   "outputs": [
    {
     "data": {
      "text/plain": [
       "Index(['PassengerId', 'Survived', 'Pclass', 'Name', 'Sex', 'Age', 'SibSp',\n",
       "       'Parch', 'Ticket', 'Fare', 'Cabin', 'Embarked'],\n",
       "      dtype='object')"
      ]
     },
     "execution_count": 3,
     "metadata": {},
     "output_type": "execute_result"
    }
   ],
   "source": [
    "df.columns"
   ]
  },
  {
   "cell_type": "code",
   "execution_count": 4,
   "id": "aa30857c",
   "metadata": {},
   "outputs": [
    {
     "data": {
      "text/plain": [
       "RangeIndex(start=0, stop=891, step=1)"
      ]
     },
     "execution_count": 4,
     "metadata": {},
     "output_type": "execute_result"
    }
   ],
   "source": [
    "df.index"
   ]
  },
  {
   "cell_type": "markdown",
   "id": "c8fe864a",
   "metadata": {},
   "source": [
    "From the index there is 891 instance in the dataset"
   ]
  },
  {
   "cell_type": "code",
   "execution_count": 5,
   "id": "6f6f8c78",
   "metadata": {},
   "outputs": [
    {
     "data": {
      "image/png": "[encoded data removed]",
      "text/plain": [
       "<Figure size 720x720 with 4 Axes>"
      ]
     },
     "metadata": {},
     "output_type": "display_data"
    }
   ],
   "source": [
    "fig, axes = plt.subplots(nrows=2, ncols=2, figsize=(10,10))\n",
    "# (0,0)\n",
    "\n",
    "axes[0,0].set_title('Grouped by survival')\n",
    "axes[0,0].pie(df.groupby('Survived')['Survived'].count(), labels=['Not survived', 'Survived'],\n",
    "              colors= ['#794668','#ffdab9'], autopct='%1.1f%%', textprops={'fontsize':13})\n",
    "# (0,1)\n",
    "axes[0,1].set_title('Grouped by pclass')\n",
    "axes[0,1].pie(df.groupby('Pclass')['Pclass'].count(), labels=['C1', 'C2', 'C3'],\n",
    "               colors= ['#ff6666','#c7c1cd','#ff7f50'],autopct='%1.1f%%', textprops={'fontsize':13})\n",
    "# (1,0)\n",
    "\n",
    "axes[1,0].set_title('Grouped by sex')\n",
    "axes[1,0].pie(df.groupby('Sex')['Sex'].count(), labels=['Male', 'Female'],colors=['#3399ff','#ff6666'],autopct='%1.1f%%', textprops={'fontsize':13})\n",
    "\n",
    "# (1,1)\n",
    "axes[1,1].set_title('Grouped by embareked')\n",
    "axes[1,1].pie( df.groupby('Embarked')['Embarked'].count(),  labels=['C', 'Q', 'S'],\n",
    "             colors=['#660066','#ffdab9','#a3847a'], autopct='%1.1f%%', textprops={'fontsize':13})\n",
    "\n",
    "# set the spacing between subplots\n",
    "plt.subplots_adjust(left=0.2,\n",
    "                    bottom=0.6, \n",
    "                    right=0.9, \n",
    "                    top=0.9, \n",
    "                    wspace=0.6, \n",
    "                    hspace=0.6)\n",
    "\n",
    "plt.tight_layout()                             # Avoid overlapping.\n",
    "plt.show()"
   ]
  },
  {
   "cell_type": "markdown",
   "id": "0713c599",
   "metadata": {},
   "source": [
    "Comments from the above: \n",
    "- 62% didn't survive\n",
    "- There is more female than male\n",
    "- Most passengers are in 3 class\n",
    "- More people embreked from Southampton port "
   ]
  },
  {
   "cell_type": "code",
   "execution_count": 6,
   "id": "114bcb62",
   "metadata": {},
   "outputs": [
    {
     "data": {
      "text/html": [
       "<div>\n",
       "<style scoped>\n",
       "    .dataframe tbody tr th:only-of-type {\n",
       "        vertical-align: middle;\n",
       "    }\n",
       "\n",
       "    .dataframe tbody tr th {\n",
       "        vertical-align: top;\n",
       "    }\n",
       "\n",
       "    .dataframe thead th {\n",
       "        text-align: right;\n",
       "    }\n",
       "</style>\n",
       "<table border=\"1\" class=\"dataframe\">\n",
       "  <thead>\n",
       "    <tr style=\"text-align: right;\">\n",
       "      <th></th>\n",
       "      <th>PassengerId</th>\n",
       "      <th>Survived</th>\n",
       "      <th>Pclass</th>\n",
       "      <th>Name</th>\n",
       "      <th>Sex</th>\n",
       "      <th>Age</th>\n",
       "      <th>SibSp</th>\n",
       "      <th>Parch</th>\n",
       "      <th>Ticket</th>\n",
       "      <th>Fare</th>\n",
       "      <th>Cabin</th>\n",
       "      <th>Embarked</th>\n",
       "    </tr>\n",
       "  </thead>\n",
       "  <tbody>\n",
       "    <tr>\n",
       "      <th>0</th>\n",
       "      <td>343</td>\n",
       "      <td>No</td>\n",
       "      <td>2</td>\n",
       "      <td>Collander, Mr. Erik Gustaf</td>\n",
       "      <td>male</td>\n",
       "      <td>28.0</td>\n",
       "      <td>0</td>\n",
       "      <td>0</td>\n",
       "      <td>248740</td>\n",
       "      <td>13.0000</td>\n",
       "      <td>NaN</td>\n",
       "      <td>S</td>\n",
       "    </tr>\n",
       "    <tr>\n",
       "      <th>1</th>\n",
       "      <td>76</td>\n",
       "      <td>No</td>\n",
       "      <td>3</td>\n",
       "      <td>Moen, Mr. Sigurd Hansen</td>\n",
       "      <td>male</td>\n",
       "      <td>25.0</td>\n",
       "      <td>0</td>\n",
       "      <td>0</td>\n",
       "      <td>348123</td>\n",
       "      <td>7.6500</td>\n",
       "      <td>F G73</td>\n",
       "      <td>S</td>\n",
       "    </tr>\n",
       "    <tr>\n",
       "      <th>2</th>\n",
       "      <td>641</td>\n",
       "      <td>No</td>\n",
       "      <td>3</td>\n",
       "      <td>Jensen, Mr. Hans Peder</td>\n",
       "      <td>male</td>\n",
       "      <td>20.0</td>\n",
       "      <td>0</td>\n",
       "      <td>0</td>\n",
       "      <td>350050</td>\n",
       "      <td>7.8542</td>\n",
       "      <td>NaN</td>\n",
       "      <td>S</td>\n",
       "    </tr>\n",
       "    <tr>\n",
       "      <th>3</th>\n",
       "      <td>568</td>\n",
       "      <td>No</td>\n",
       "      <td>3</td>\n",
       "      <td>Palsson, Mrs. Nils (Alma Cornelia Berglund)</td>\n",
       "      <td>female</td>\n",
       "      <td>29.0</td>\n",
       "      <td>0</td>\n",
       "      <td>4</td>\n",
       "      <td>349909</td>\n",
       "      <td>21.0750</td>\n",
       "      <td>NaN</td>\n",
       "      <td>S</td>\n",
       "    </tr>\n",
       "    <tr>\n",
       "      <th>4</th>\n",
       "      <td>672</td>\n",
       "      <td>No</td>\n",
       "      <td>1</td>\n",
       "      <td>Davidson, Mr. Thornton</td>\n",
       "      <td>male</td>\n",
       "      <td>31.0</td>\n",
       "      <td>1</td>\n",
       "      <td>0</td>\n",
       "      <td>F.C. 12750</td>\n",
       "      <td>52.0000</td>\n",
       "      <td>B71</td>\n",
       "      <td>S</td>\n",
       "    </tr>\n",
       "    <tr>\n",
       "      <th>5</th>\n",
       "      <td>105</td>\n",
       "      <td>No</td>\n",
       "      <td>3</td>\n",
       "      <td>Gustafsson, Mr. Anders Vilhelm</td>\n",
       "      <td>male</td>\n",
       "      <td>37.0</td>\n",
       "      <td>2</td>\n",
       "      <td>0</td>\n",
       "      <td>3101276</td>\n",
       "      <td>7.9250</td>\n",
       "      <td>NaN</td>\n",
       "      <td>S</td>\n",
       "    </tr>\n",
       "    <tr>\n",
       "      <th>6</th>\n",
       "      <td>576</td>\n",
       "      <td>No</td>\n",
       "      <td>3</td>\n",
       "      <td>Patchett, Mr. George</td>\n",
       "      <td>male</td>\n",
       "      <td>19.0</td>\n",
       "      <td>0</td>\n",
       "      <td>0</td>\n",
       "      <td>358585</td>\n",
       "      <td>14.5000</td>\n",
       "      <td>NaN</td>\n",
       "      <td>S</td>\n",
       "    </tr>\n",
       "    <tr>\n",
       "      <th>7</th>\n",
       "      <td>382</td>\n",
       "      <td>Yes</td>\n",
       "      <td>3</td>\n",
       "      <td>Nakid, Miss. Maria (\"Mary\")</td>\n",
       "      <td>female</td>\n",
       "      <td>1.0</td>\n",
       "      <td>0</td>\n",
       "      <td>2</td>\n",
       "      <td>2653</td>\n",
       "      <td>15.7417</td>\n",
       "      <td>NaN</td>\n",
       "      <td>C</td>\n",
       "    </tr>\n",
       "    <tr>\n",
       "      <th>8</th>\n",
       "      <td>228</td>\n",
       "      <td>No</td>\n",
       "      <td>3</td>\n",
       "      <td>Lovell, Mr. John Hall (\"Henry\")</td>\n",
       "      <td>male</td>\n",
       "      <td>20.5</td>\n",
       "      <td>0</td>\n",
       "      <td>0</td>\n",
       "      <td>A/5 21173</td>\n",
       "      <td>7.2500</td>\n",
       "      <td>NaN</td>\n",
       "      <td>S</td>\n",
       "    </tr>\n",
       "    <tr>\n",
       "      <th>9</th>\n",
       "      <td>433</td>\n",
       "      <td>Yes</td>\n",
       "      <td>2</td>\n",
       "      <td>Louch, Mrs. Charles Alexander (Alice Adelaide ...</td>\n",
       "      <td>female</td>\n",
       "      <td>42.0</td>\n",
       "      <td>1</td>\n",
       "      <td>0</td>\n",
       "      <td>SC/AH 3085</td>\n",
       "      <td>26.0000</td>\n",
       "      <td>NaN</td>\n",
       "      <td>S</td>\n",
       "    </tr>\n",
       "  </tbody>\n",
       "</table>\n",
       "</div>"
      ],
      "text/plain": [
       "   PassengerId Survived  Pclass  \\\n",
       "0          343       No       2   \n",
       "1           76       No       3   \n",
       "2          641       No       3   \n",
       "3          568       No       3   \n",
       "4          672       No       1   \n",
       "5          105       No       3   \n",
       "6          576       No       3   \n",
       "7          382      Yes       3   \n",
       "8          228       No       3   \n",
       "9          433      Yes       2   \n",
       "\n",
       "                                                Name     Sex   Age  SibSp  \\\n",
       "0                         Collander, Mr. Erik Gustaf    male  28.0      0   \n",
       "1                            Moen, Mr. Sigurd Hansen    male  25.0      0   \n",
       "2                             Jensen, Mr. Hans Peder    male  20.0      0   \n",
       "3        Palsson, Mrs. Nils (Alma Cornelia Berglund)  female  29.0      0   \n",
       "4                             Davidson, Mr. Thornton    male  31.0      1   \n",
       "5                     Gustafsson, Mr. Anders Vilhelm    male  37.0      2   \n",
       "6                               Patchett, Mr. George    male  19.0      0   \n",
       "7                        Nakid, Miss. Maria (\"Mary\")  female   1.0      0   \n",
       "8                    Lovell, Mr. John Hall (\"Henry\")    male  20.5      0   \n",
       "9  Louch, Mrs. Charles Alexander (Alice Adelaide ...  female  42.0      1   \n",
       "\n",
       "   Parch      Ticket     Fare  Cabin Embarked  \n",
       "0      0      248740  13.0000    NaN        S  \n",
       "1      0      348123   7.6500  F G73        S  \n",
       "2      0      350050   7.8542    NaN        S  \n",
       "3      4      349909  21.0750    NaN        S  \n",
       "4      0  F.C. 12750  52.0000    B71        S  \n",
       "5      0     3101276   7.9250    NaN        S  \n",
       "6      0      358585  14.5000    NaN        S  \n",
       "7      2        2653  15.7417    NaN        C  \n",
       "8      0   A/5 21173   7.2500    NaN        S  \n",
       "9      0  SC/AH 3085  26.0000    NaN        S  "
      ]
     },
     "execution_count": 6,
     "metadata": {},
     "output_type": "execute_result"
    }
   ],
   "source": [
    "# important info\n",
    "df.head(10)"
   ]
  },
  {
   "cell_type": "code",
   "execution_count": 7,
   "id": "43a5a58d",
   "metadata": {},
   "outputs": [
    {
     "data": {
      "text/html": [
       "<div>\n",
       "<style scoped>\n",
       "    .dataframe tbody tr th:only-of-type {\n",
       "        vertical-align: middle;\n",
       "    }\n",
       "\n",
       "    .dataframe tbody tr th {\n",
       "        vertical-align: top;\n",
       "    }\n",
       "\n",
       "    .dataframe thead th {\n",
       "        text-align: right;\n",
       "    }\n",
       "</style>\n",
       "<table border=\"1\" class=\"dataframe\">\n",
       "  <thead>\n",
       "    <tr style=\"text-align: right;\">\n",
       "      <th></th>\n",
       "      <th>PassengerId</th>\n",
       "      <th>Survived</th>\n",
       "      <th>Pclass</th>\n",
       "      <th>Name</th>\n",
       "      <th>Sex</th>\n",
       "      <th>Age</th>\n",
       "      <th>SibSp</th>\n",
       "      <th>Parch</th>\n",
       "      <th>Ticket</th>\n",
       "      <th>Fare</th>\n",
       "      <th>Cabin</th>\n",
       "      <th>Embarked</th>\n",
       "    </tr>\n",
       "  </thead>\n",
       "  <tbody>\n",
       "    <tr>\n",
       "      <th>881</th>\n",
       "      <td>699</td>\n",
       "      <td>No</td>\n",
       "      <td>1</td>\n",
       "      <td>Thayer, Mr. John Borland</td>\n",
       "      <td>male</td>\n",
       "      <td>49.0</td>\n",
       "      <td>1</td>\n",
       "      <td>1</td>\n",
       "      <td>17421</td>\n",
       "      <td>110.8833</td>\n",
       "      <td>C68</td>\n",
       "      <td>C</td>\n",
       "    </tr>\n",
       "    <tr>\n",
       "      <th>882</th>\n",
       "      <td>775</td>\n",
       "      <td>Yes</td>\n",
       "      <td>2</td>\n",
       "      <td>Hocking, Mrs. Elizabeth (Eliza Needs)</td>\n",
       "      <td>female</td>\n",
       "      <td>54.0</td>\n",
       "      <td>1</td>\n",
       "      <td>3</td>\n",
       "      <td>29105</td>\n",
       "      <td>23.0000</td>\n",
       "      <td>NaN</td>\n",
       "      <td>S</td>\n",
       "    </tr>\n",
       "    <tr>\n",
       "      <th>883</th>\n",
       "      <td>809</td>\n",
       "      <td>No</td>\n",
       "      <td>2</td>\n",
       "      <td>Meyer, Mr. August</td>\n",
       "      <td>male</td>\n",
       "      <td>39.0</td>\n",
       "      <td>0</td>\n",
       "      <td>0</td>\n",
       "      <td>248723</td>\n",
       "      <td>13.0000</td>\n",
       "      <td>NaN</td>\n",
       "      <td>S</td>\n",
       "    </tr>\n",
       "    <tr>\n",
       "      <th>884</th>\n",
       "      <td>278</td>\n",
       "      <td>No</td>\n",
       "      <td>2</td>\n",
       "      <td>Parkes, Mr. Francis \"Frank\"</td>\n",
       "      <td>male</td>\n",
       "      <td>NaN</td>\n",
       "      <td>0</td>\n",
       "      <td>0</td>\n",
       "      <td>239853</td>\n",
       "      <td>0.0000</td>\n",
       "      <td>NaN</td>\n",
       "      <td>S</td>\n",
       "    </tr>\n",
       "    <tr>\n",
       "      <th>885</th>\n",
       "      <td>150</td>\n",
       "      <td>No</td>\n",
       "      <td>2</td>\n",
       "      <td>Byles, Rev. Thomas Roussel Davids</td>\n",
       "      <td>male</td>\n",
       "      <td>42.0</td>\n",
       "      <td>0</td>\n",
       "      <td>0</td>\n",
       "      <td>244310</td>\n",
       "      <td>13.0000</td>\n",
       "      <td>NaN</td>\n",
       "      <td>S</td>\n",
       "    </tr>\n",
       "    <tr>\n",
       "      <th>886</th>\n",
       "      <td>10</td>\n",
       "      <td>Yes</td>\n",
       "      <td>2</td>\n",
       "      <td>Nasser, Mrs. Nicholas (Adele Achem)</td>\n",
       "      <td>female</td>\n",
       "      <td>14.0</td>\n",
       "      <td>1</td>\n",
       "      <td>0</td>\n",
       "      <td>237736</td>\n",
       "      <td>30.0708</td>\n",
       "      <td>NaN</td>\n",
       "      <td>C</td>\n",
       "    </tr>\n",
       "    <tr>\n",
       "      <th>887</th>\n",
       "      <td>61</td>\n",
       "      <td>No</td>\n",
       "      <td>3</td>\n",
       "      <td>Sirayanian, Mr. Orsen</td>\n",
       "      <td>male</td>\n",
       "      <td>22.0</td>\n",
       "      <td>0</td>\n",
       "      <td>0</td>\n",
       "      <td>2669</td>\n",
       "      <td>7.2292</td>\n",
       "      <td>NaN</td>\n",
       "      <td>C</td>\n",
       "    </tr>\n",
       "    <tr>\n",
       "      <th>888</th>\n",
       "      <td>535</td>\n",
       "      <td>No</td>\n",
       "      <td>3</td>\n",
       "      <td>Cacic, Miss. Marija</td>\n",
       "      <td>female</td>\n",
       "      <td>30.0</td>\n",
       "      <td>0</td>\n",
       "      <td>0</td>\n",
       "      <td>315084</td>\n",
       "      <td>8.6625</td>\n",
       "      <td>NaN</td>\n",
       "      <td>S</td>\n",
       "    </tr>\n",
       "    <tr>\n",
       "      <th>889</th>\n",
       "      <td>102</td>\n",
       "      <td>No</td>\n",
       "      <td>3</td>\n",
       "      <td>Petroff, Mr. Pastcho (\"Pentcho\")</td>\n",
       "      <td>male</td>\n",
       "      <td>NaN</td>\n",
       "      <td>0</td>\n",
       "      <td>0</td>\n",
       "      <td>349215</td>\n",
       "      <td>7.8958</td>\n",
       "      <td>NaN</td>\n",
       "      <td>S</td>\n",
       "    </tr>\n",
       "    <tr>\n",
       "      <th>890</th>\n",
       "      <td>428</td>\n",
       "      <td>Yes</td>\n",
       "      <td>2</td>\n",
       "      <td>Phillips, Miss. Kate Florence (\"Mrs Kate Louis...</td>\n",
       "      <td>female</td>\n",
       "      <td>19.0</td>\n",
       "      <td>0</td>\n",
       "      <td>0</td>\n",
       "      <td>250655</td>\n",
       "      <td>26.0000</td>\n",
       "      <td>NaN</td>\n",
       "      <td>S</td>\n",
       "    </tr>\n",
       "  </tbody>\n",
       "</table>\n",
       "</div>"
      ],
      "text/plain": [
       "     PassengerId Survived  Pclass  \\\n",
       "881          699       No       1   \n",
       "882          775      Yes       2   \n",
       "883          809       No       2   \n",
       "884          278       No       2   \n",
       "885          150       No       2   \n",
       "886           10      Yes       2   \n",
       "887           61       No       3   \n",
       "888          535       No       3   \n",
       "889          102       No       3   \n",
       "890          428      Yes       2   \n",
       "\n",
       "                                                  Name     Sex   Age  SibSp  \\\n",
       "881                           Thayer, Mr. John Borland    male  49.0      1   \n",
       "882              Hocking, Mrs. Elizabeth (Eliza Needs)  female  54.0      1   \n",
       "883                                  Meyer, Mr. August    male  39.0      0   \n",
       "884                        Parkes, Mr. Francis \"Frank\"    male   NaN      0   \n",
       "885                  Byles, Rev. Thomas Roussel Davids    male  42.0      0   \n",
       "886                Nasser, Mrs. Nicholas (Adele Achem)  female  14.0      1   \n",
       "887                              Sirayanian, Mr. Orsen    male  22.0      0   \n",
       "888                                Cacic, Miss. Marija  female  30.0      0   \n",
       "889                   Petroff, Mr. Pastcho (\"Pentcho\")    male   NaN      0   \n",
       "890  Phillips, Miss. Kate Florence (\"Mrs Kate Louis...  female  19.0      0   \n",
       "\n",
       "     Parch  Ticket      Fare Cabin Embarked  \n",
       "881      1   17421  110.8833   C68        C  \n",
       "882      3   29105   23.0000   NaN        S  \n",
       "883      0  248723   13.0000   NaN        S  \n",
       "884      0  239853    0.0000   NaN        S  \n",
       "885      0  244310   13.0000   NaN        S  \n",
       "886      0  237736   30.0708   NaN        C  \n",
       "887      0    2669    7.2292   NaN        C  \n",
       "888      0  315084    8.6625   NaN        S  \n",
       "889      0  349215    7.8958   NaN        S  \n",
       "890      0  250655   26.0000   NaN        S  "
      ]
     },
     "execution_count": 7,
     "metadata": {},
     "output_type": "execute_result"
    }
   ],
   "source": [
    "df.tail(10)"
   ]
  },
  {
   "cell_type": "markdown",
   "id": "55b43155",
   "metadata": {},
   "source": [
    "Just visualizung the head and the tail of the dataset i notice:\n",
    "- the cabin column contines NaN values ( 18/20)  \n",
    "- Also Age column 1 out 20 "
   ]
  },
  {
   "cell_type": "code",
   "execution_count": 8,
   "id": "8f8627bf",
   "metadata": {},
   "outputs": [
    {
     "name": "stdout",
     "output_type": "stream",
     "text": [
      "<class 'pandas.core.frame.DataFrame'>\n",
      "RangeIndex: 891 entries, 0 to 890\n",
      "Data columns (total 12 columns):\n",
      " #   Column       Non-Null Count  Dtype  \n",
      "---  ------       --------------  -----  \n",
      " 0   PassengerId  891 non-null    int64  \n",
      " 1   Survived     891 non-null    object \n",
      " 2   Pclass       891 non-null    int64  \n",
      " 3   Name         891 non-null    object \n",
      " 4   Sex          891 non-null    object \n",
      " 5   Age          714 non-null    float64\n",
      " 6   SibSp        891 non-null    int64  \n",
      " 7   Parch        891 non-null    int64  \n",
      " 8   Ticket       891 non-null    object \n",
      " 9   Fare         891 non-null    float64\n",
      " 10  Cabin        204 non-null    object \n",
      " 11  Embarked     889 non-null    object \n",
      "dtypes: float64(2), int64(4), object(6)\n",
      "memory usage: 83.7+ KB\n"
     ]
    }
   ],
   "source": [
    "df.info()"
   ]
  },
  {
   "cell_type": "code",
   "execution_count": 9,
   "id": "5cac1ad5",
   "metadata": {},
   "outputs": [
    {
     "data": {
      "text/plain": [
       "866"
      ]
     },
     "execution_count": 9,
     "metadata": {},
     "output_type": "execute_result"
    }
   ],
   "source": [
    "df.isnull().sum().sum()"
   ]
  },
  {
   "cell_type": "code",
   "execution_count": 10,
   "id": "4321f50b",
   "metadata": {},
   "outputs": [
    {
     "data": {
      "text/plain": [
       "PassengerId      0\n",
       "Survived         0\n",
       "Pclass           0\n",
       "Name             0\n",
       "Sex              0\n",
       "Age            177\n",
       "SibSp            0\n",
       "Parch            0\n",
       "Ticket           0\n",
       "Fare             0\n",
       "Cabin          687\n",
       "Embarked         2\n",
       "dtype: int64"
      ]
     },
     "execution_count": 10,
     "metadata": {},
     "output_type": "execute_result"
    }
   ],
   "source": [
    "df.isnull().sum()"
   ]
  },
  {
   "cell_type": "markdown",
   "id": "a08b31fd",
   "metadata": {},
   "source": [
    "As noticed before:\n",
    "- Cabin has 687 NaN values\n",
    "- Age has 177 Nan \n",
    "- Embarked with 2 missing values\n"
   ]
  },
  {
   "cell_type": "markdown",
   "id": "7d645da1",
   "metadata": {},
   "source": [
    "Next step is cleaning\n",
    "To clear the dataset i will process like folowing:\n",
    "- Age: will be replaced by the median value \n",
    "- Embarked: is categorical value then i have to replace it with the most frequent value\n",
    "- Cabin: i would like to see if there is a correlation betweene the Cabin and the ticket if so then it must be replaced according to Ticket else it has to be droped"
   ]
  },
  {
   "cell_type": "code",
   "execution_count": 11,
   "id": "11d81d3b",
   "metadata": {},
   "outputs": [
    {
     "data": {
      "text/plain": [
       "PassengerId      0\n",
       "Survived         0\n",
       "Pclass           0\n",
       "Name             0\n",
       "Sex              0\n",
       "Age              0\n",
       "SibSp            0\n",
       "Parch            0\n",
       "Ticket           0\n",
       "Fare             0\n",
       "Cabin          687\n",
       "Embarked         2\n",
       "dtype: int64"
      ]
     },
     "execution_count": 11,
     "metadata": {},
     "output_type": "execute_result"
    }
   ],
   "source": [
    "# Cleaning Age column\n",
    "\n",
    "df['Age'].fillna(df['Age'].mean(), inplace =True)\n",
    "df.isnull().sum()"
   ]
  },
  {
   "cell_type": "code",
   "execution_count": 12,
   "id": "ee7daab8",
   "metadata": {},
   "outputs": [
    {
     "data": {
      "text/plain": [
       "'S'"
      ]
     },
     "execution_count": 12,
     "metadata": {},
     "output_type": "execute_result"
    }
   ],
   "source": [
    "# cleaning Embarked \n",
    "# Cheking most frequent value \n",
    "freq=df['Embarked'].value_counts().idxmax()\n",
    "freq"
   ]
  },
  {
   "cell_type": "code",
   "execution_count": 13,
   "id": "868914fe",
   "metadata": {},
   "outputs": [
    {
     "data": {
      "text/plain": [
       "PassengerId      0\n",
       "Survived         0\n",
       "Pclass           0\n",
       "Name             0\n",
       "Sex              0\n",
       "Age              0\n",
       "SibSp            0\n",
       "Parch            0\n",
       "Ticket           0\n",
       "Fare             0\n",
       "Cabin          687\n",
       "Embarked         0\n",
       "dtype: int64"
      ]
     },
     "execution_count": 13,
     "metadata": {},
     "output_type": "execute_result"
    }
   ],
   "source": [
    "# Replacing missing values by 'S' \n",
    "df['Embarked'].fillna(freq, inplace =True)\n",
    "df.isnull().sum()"
   ]
  },
  {
   "cell_type": "code",
   "execution_count": 14,
   "id": "c508cb9a",
   "metadata": {},
   "outputs": [
    {
     "data": {
      "text/html": [
       "<div>\n",
       "<style scoped>\n",
       "    .dataframe tbody tr th:only-of-type {\n",
       "        vertical-align: middle;\n",
       "    }\n",
       "\n",
       "    .dataframe tbody tr th {\n",
       "        vertical-align: top;\n",
       "    }\n",
       "\n",
       "    .dataframe thead th {\n",
       "        text-align: right;\n",
       "    }\n",
       "</style>\n",
       "<table border=\"1\" class=\"dataframe\">\n",
       "  <thead>\n",
       "    <tr style=\"text-align: right;\">\n",
       "      <th></th>\n",
       "      <th>PassengerId</th>\n",
       "      <th>Survived</th>\n",
       "      <th>Pclass</th>\n",
       "      <th>Name</th>\n",
       "      <th>Sex</th>\n",
       "      <th>Age</th>\n",
       "      <th>SibSp</th>\n",
       "      <th>Parch</th>\n",
       "      <th>Ticket</th>\n",
       "      <th>Fare</th>\n",
       "      <th>Cabin</th>\n",
       "      <th>Embarked</th>\n",
       "    </tr>\n",
       "  </thead>\n",
       "  <tbody>\n",
       "    <tr>\n",
       "      <th>1</th>\n",
       "      <td>76</td>\n",
       "      <td>No</td>\n",
       "      <td>3</td>\n",
       "      <td>Moen, Mr. Sigurd Hansen</td>\n",
       "      <td>male</td>\n",
       "      <td>25.0</td>\n",
       "      <td>0</td>\n",
       "      <td>0</td>\n",
       "      <td>348123</td>\n",
       "      <td>7.65</td>\n",
       "      <td>F G73</td>\n",
       "      <td>S</td>\n",
       "    </tr>\n",
       "    <tr>\n",
       "      <th>4</th>\n",
       "      <td>672</td>\n",
       "      <td>No</td>\n",
       "      <td>1</td>\n",
       "      <td>Davidson, Mr. Thornton</td>\n",
       "      <td>male</td>\n",
       "      <td>31.0</td>\n",
       "      <td>1</td>\n",
       "      <td>0</td>\n",
       "      <td>F.C. 12750</td>\n",
       "      <td>52.00</td>\n",
       "      <td>B71</td>\n",
       "      <td>S</td>\n",
       "    </tr>\n",
       "    <tr>\n",
       "      <th>16</th>\n",
       "      <td>378</td>\n",
       "      <td>No</td>\n",
       "      <td>1</td>\n",
       "      <td>Widener, Mr. Harry Elkins</td>\n",
       "      <td>male</td>\n",
       "      <td>27.0</td>\n",
       "      <td>0</td>\n",
       "      <td>2</td>\n",
       "      <td>113503</td>\n",
       "      <td>211.50</td>\n",
       "      <td>C82</td>\n",
       "      <td>C</td>\n",
       "    </tr>\n",
       "    <tr>\n",
       "      <th>19</th>\n",
       "      <td>225</td>\n",
       "      <td>Yes</td>\n",
       "      <td>1</td>\n",
       "      <td>Hoyt, Mr. Frederick Maxfield</td>\n",
       "      <td>male</td>\n",
       "      <td>38.0</td>\n",
       "      <td>1</td>\n",
       "      <td>0</td>\n",
       "      <td>19943</td>\n",
       "      <td>90.00</td>\n",
       "      <td>C93</td>\n",
       "      <td>S</td>\n",
       "    </tr>\n",
       "    <tr>\n",
       "      <th>26</th>\n",
       "      <td>588</td>\n",
       "      <td>Yes</td>\n",
       "      <td>1</td>\n",
       "      <td>Frolicher-Stehli, Mr. Maxmillian</td>\n",
       "      <td>male</td>\n",
       "      <td>60.0</td>\n",
       "      <td>1</td>\n",
       "      <td>1</td>\n",
       "      <td>13567</td>\n",
       "      <td>79.20</td>\n",
       "      <td>B41</td>\n",
       "      <td>C</td>\n",
       "    </tr>\n",
       "  </tbody>\n",
       "</table>\n",
       "</div>"
      ],
      "text/plain": [
       "    PassengerId Survived  Pclass                              Name   Sex  \\\n",
       "1            76       No       3           Moen, Mr. Sigurd Hansen  male   \n",
       "4           672       No       1            Davidson, Mr. Thornton  male   \n",
       "16          378       No       1         Widener, Mr. Harry Elkins  male   \n",
       "19          225      Yes       1      Hoyt, Mr. Frederick Maxfield  male   \n",
       "26          588      Yes       1  Frolicher-Stehli, Mr. Maxmillian  male   \n",
       "\n",
       "     Age  SibSp  Parch      Ticket    Fare  Cabin Embarked  \n",
       "1   25.0      0      0      348123    7.65  F G73        S  \n",
       "4   31.0      1      0  F.C. 12750   52.00    B71        S  \n",
       "16  27.0      0      2      113503  211.50    C82        C  \n",
       "19  38.0      1      0       19943   90.00    C93        S  \n",
       "26  60.0      1      1       13567   79.20    B41        C  "
      ]
     },
     "execution_count": 14,
     "metadata": {},
     "output_type": "execute_result"
    }
   ],
   "source": [
    "# Cleaning Cabin\n",
    "\n",
    "# Selecting rows where Cabin not null\n",
    "pd.set_option('display.max_rows',None)\n",
    "Cabin_not_null=df[~df['Cabin'].isna()]\n",
    "Cabin_not_null.head()"
   ]
  },
  {
   "cell_type": "code",
   "execution_count": 15,
   "id": "17d2be47",
   "metadata": {},
   "outputs": [
    {
     "name": "stderr",
     "output_type": "stream",
     "text": [
      "C:\\Users\\HP\\AppData\\Local\\Temp/ipykernel_14068/2399673457.py:2: SettingWithCopyWarning: \n",
      "A value is trying to be set on a copy of a slice from a DataFrame.\n",
      "Try using .loc[row_indexer,col_indexer] = value instead\n",
      "\n",
      "See the caveats in the documentation: https://pandas.pydata.org/pandas-docs/stable/user_guide/indexing.html#returning-a-view-versus-a-copy\n",
      "  Cabin_not_null['Cabin part']= Cabin_not_null['Cabin'].str[0]\n",
      "C:\\Users\\HP\\anaconda3\\lib\\site-packages\\pandas\\core\\frame.py:4906: SettingWithCopyWarning: \n",
      "A value is trying to be set on a copy of a slice from a DataFrame\n",
      "\n",
      "See the caveats in the documentation: https://pandas.pydata.org/pandas-docs/stable/user_guide/indexing.html#returning-a-view-versus-a-copy\n",
      "  return super().drop(\n"
     ]
    },
    {
     "data": {
      "text/plain": [
       "Index(['PassengerId', 'Survived', 'Pclass', 'Name', 'Sex', 'Age', 'SibSp',\n",
       "       'Parch', 'Ticket', 'Fare', 'Embarked', 'Cabin part'],\n",
       "      dtype='object')"
      ]
     },
     "execution_count": 15,
     "metadata": {},
     "output_type": "execute_result"
    }
   ],
   "source": [
    "# creating column Cabin part from Cabin in dataframe of non missing values of Cabin\n",
    "Cabin_not_null['Cabin part']= Cabin_not_null['Cabin'].str[0]\n",
    "Cabin_not_null.drop(\"Cabin\", axis=1, inplace=True)\n",
    "Cabin_not_null.columns"
   ]
  },
  {
   "cell_type": "code",
   "execution_count": 16,
   "id": "d78f7a2d",
   "metadata": {},
   "outputs": [
    {
     "name": "stderr",
     "output_type": "stream",
     "text": [
      "No handles with labels found to put in legend.\n"
     ]
    },
    {
     "data": {
      "image/png": "[encoded data removed]",
      "text/plain": [
       "<Figure size 432x288 with 1 Axes>"
      ]
     },
     "metadata": {
      "needs_background": "light"
     },
     "output_type": "display_data"
    }
   ],
   "source": [
    "Cabin_not_null.plot.scatter(x='Pclass', y='Cabin part')\n",
    "plt.legend()\n",
    "plt.show()"
   ]
  },
  {
   "cell_type": "code",
   "execution_count": 17,
   "id": "8a2dbb15",
   "metadata": {},
   "outputs": [
    {
     "name": "stderr",
     "output_type": "stream",
     "text": [
      "C:\\Users\\HP\\anaconda3\\lib\\site-packages\\seaborn\\axisgrid.py:337: UserWarning: The `size` parameter has been renamed to `height`; please update your code.\n",
      "  warnings.warn(msg, UserWarning)\n",
      "C:\\Users\\HP\\anaconda3\\lib\\site-packages\\seaborn\\axisgrid.py:670: UserWarning: Using the barplot function without specifying `order` is likely to produce an incorrect plot.\n",
      "  warnings.warn(warning)\n"
     ]
    },
    {
     "data": {
      "text/plain": [
       "<seaborn.axisgrid.FacetGrid at 0x2c861a9bdc0>"
      ]
     },
     "execution_count": 17,
     "metadata": {},
     "output_type": "execute_result"
    },
    {
     "data": {
      "image/png": "[encoded data removed]",
      "text/plain": [
       "<Figure size 2035.52x158.4 with 8 Axes>"
      ]
     },
     "metadata": {
      "needs_background": "light"
     },
     "output_type": "display_data"
    }
   ],
   "source": [
    "grid = sns.FacetGrid(Cabin_not_null, col=\"Cabin part\", size=2.2, aspect=1.6)\n",
    "grid.map(sns.barplot, 'Pclass', alpha=.5, ci=None)\n",
    "grid.add_legend()"
   ]
  },
  {
   "cell_type": "markdown",
   "id": "b3f67d30",
   "metadata": {},
   "source": [
    "From Bar and scatter plot i will replace Cabin missing values as folowing :\n",
    "- Pclass = 1 , one of the folowing cabin part {A, B, C, T, E}\n",
    "- Pclass = 2 , {D, E}\n",
    "- Pclass = 3 , {G, E}"
   ]
  },
  {
   "cell_type": "code",
   "execution_count": 18,
   "id": "172bd751",
   "metadata": {},
   "outputs": [],
   "source": [
    "df['Cabin'].fillna('null', inplace =True)"
   ]
  },
  {
   "cell_type": "code",
   "execution_count": 19,
   "id": "b1fec935",
   "metadata": {},
   "outputs": [
    {
     "name": "stdout",
     "output_type": "stream",
     "text": [
      "<class 'pandas.core.frame.DataFrame'>\n",
      "RangeIndex: 891 entries, 0 to 890\n",
      "Data columns (total 12 columns):\n",
      " #   Column       Non-Null Count  Dtype  \n",
      "---  ------       --------------  -----  \n",
      " 0   PassengerId  891 non-null    int64  \n",
      " 1   Survived     891 non-null    object \n",
      " 2   Pclass       891 non-null    int64  \n",
      " 3   Name         891 non-null    object \n",
      " 4   Sex          891 non-null    object \n",
      " 5   Age          891 non-null    float64\n",
      " 6   SibSp        891 non-null    int64  \n",
      " 7   Parch        891 non-null    int64  \n",
      " 8   Ticket       891 non-null    object \n",
      " 9   Fare         891 non-null    float64\n",
      " 10  Cabin        891 non-null    object \n",
      " 11  Embarked     891 non-null    object \n",
      "dtypes: float64(2), int64(4), object(6)\n",
      "memory usage: 83.7+ KB\n"
     ]
    }
   ],
   "source": [
    "df.info()"
   ]
  },
  {
   "cell_type": "code",
   "execution_count": 20,
   "id": "d6768469",
   "metadata": {},
   "outputs": [],
   "source": [
    "import numpy as np\n",
    "import random \n",
    "def Clean (a,b):\n",
    "    if(a == 'null'):\n",
    "        if(b==1):\n",
    "            return np.random.choice(['A','B','C','T','E'])\n",
    "        if(b==2):\n",
    "            return np.random.choice(['D','E'])\n",
    "        if(b==3):\n",
    "            return np.random.choice(['E','G'])\n",
    "    else:\n",
    "        return a\n",
    "   \n",
    "    "
   ]
  },
  {
   "cell_type": "code",
   "execution_count": 21,
   "id": "0040f3b8",
   "metadata": {},
   "outputs": [],
   "source": [
    "df['Bloc']=df.apply(lambda row: Clean(row['Cabin'], row['Pclass']), axis=1)"
   ]
  },
  {
   "cell_type": "code",
   "execution_count": 22,
   "id": "4b14ff85",
   "metadata": {},
   "outputs": [],
   "source": [
    "df['Bloc']=df['Bloc'].str[0]"
   ]
  },
  {
   "cell_type": "code",
   "execution_count": 23,
   "id": "e4d082e2",
   "metadata": {},
   "outputs": [
    {
     "data": {
      "text/html": [
       "<div>\n",
       "<style scoped>\n",
       "    .dataframe tbody tr th:only-of-type {\n",
       "        vertical-align: middle;\n",
       "    }\n",
       "\n",
       "    .dataframe tbody tr th {\n",
       "        vertical-align: top;\n",
       "    }\n",
       "\n",
       "    .dataframe thead th {\n",
       "        text-align: right;\n",
       "    }\n",
       "</style>\n",
       "<table border=\"1\" class=\"dataframe\">\n",
       "  <thead>\n",
       "    <tr style=\"text-align: right;\">\n",
       "      <th></th>\n",
       "      <th>PassengerId</th>\n",
       "      <th>Survived</th>\n",
       "      <th>Pclass</th>\n",
       "      <th>Name</th>\n",
       "      <th>Sex</th>\n",
       "      <th>Age</th>\n",
       "      <th>SibSp</th>\n",
       "      <th>Parch</th>\n",
       "      <th>Ticket</th>\n",
       "      <th>Fare</th>\n",
       "      <th>Cabin</th>\n",
       "      <th>Embarked</th>\n",
       "      <th>Bloc</th>\n",
       "    </tr>\n",
       "  </thead>\n",
       "  <tbody>\n",
       "    <tr>\n",
       "      <th>0</th>\n",
       "      <td>343</td>\n",
       "      <td>No</td>\n",
       "      <td>2</td>\n",
       "      <td>Collander, Mr. Erik Gustaf</td>\n",
       "      <td>male</td>\n",
       "      <td>28.0</td>\n",
       "      <td>0</td>\n",
       "      <td>0</td>\n",
       "      <td>248740</td>\n",
       "      <td>13.0000</td>\n",
       "      <td>null</td>\n",
       "      <td>S</td>\n",
       "      <td>D</td>\n",
       "    </tr>\n",
       "    <tr>\n",
       "      <th>1</th>\n",
       "      <td>76</td>\n",
       "      <td>No</td>\n",
       "      <td>3</td>\n",
       "      <td>Moen, Mr. Sigurd Hansen</td>\n",
       "      <td>male</td>\n",
       "      <td>25.0</td>\n",
       "      <td>0</td>\n",
       "      <td>0</td>\n",
       "      <td>348123</td>\n",
       "      <td>7.6500</td>\n",
       "      <td>F G73</td>\n",
       "      <td>S</td>\n",
       "      <td>F</td>\n",
       "    </tr>\n",
       "    <tr>\n",
       "      <th>2</th>\n",
       "      <td>641</td>\n",
       "      <td>No</td>\n",
       "      <td>3</td>\n",
       "      <td>Jensen, Mr. Hans Peder</td>\n",
       "      <td>male</td>\n",
       "      <td>20.0</td>\n",
       "      <td>0</td>\n",
       "      <td>0</td>\n",
       "      <td>350050</td>\n",
       "      <td>7.8542</td>\n",
       "      <td>null</td>\n",
       "      <td>S</td>\n",
       "      <td>G</td>\n",
       "    </tr>\n",
       "    <tr>\n",
       "      <th>3</th>\n",
       "      <td>568</td>\n",
       "      <td>No</td>\n",
       "      <td>3</td>\n",
       "      <td>Palsson, Mrs. Nils (Alma Cornelia Berglund)</td>\n",
       "      <td>female</td>\n",
       "      <td>29.0</td>\n",
       "      <td>0</td>\n",
       "      <td>4</td>\n",
       "      <td>349909</td>\n",
       "      <td>21.0750</td>\n",
       "      <td>null</td>\n",
       "      <td>S</td>\n",
       "      <td>G</td>\n",
       "    </tr>\n",
       "    <tr>\n",
       "      <th>4</th>\n",
       "      <td>672</td>\n",
       "      <td>No</td>\n",
       "      <td>1</td>\n",
       "      <td>Davidson, Mr. Thornton</td>\n",
       "      <td>male</td>\n",
       "      <td>31.0</td>\n",
       "      <td>1</td>\n",
       "      <td>0</td>\n",
       "      <td>F.C. 12750</td>\n",
       "      <td>52.0000</td>\n",
       "      <td>B71</td>\n",
       "      <td>S</td>\n",
       "      <td>B</td>\n",
       "    </tr>\n",
       "  </tbody>\n",
       "</table>\n",
       "</div>"
      ],
      "text/plain": [
       "   PassengerId Survived  Pclass                                         Name  \\\n",
       "0          343       No       2                   Collander, Mr. Erik Gustaf   \n",
       "1           76       No       3                      Moen, Mr. Sigurd Hansen   \n",
       "2          641       No       3                       Jensen, Mr. Hans Peder   \n",
       "3          568       No       3  Palsson, Mrs. Nils (Alma Cornelia Berglund)   \n",
       "4          672       No       1                       Davidson, Mr. Thornton   \n",
       "\n",
       "      Sex   Age  SibSp  Parch      Ticket     Fare  Cabin Embarked Bloc  \n",
       "0    male  28.0      0      0      248740  13.0000   null        S    D  \n",
       "1    male  25.0      0      0      348123   7.6500  F G73        S    F  \n",
       "2    male  20.0      0      0      350050   7.8542   null        S    G  \n",
       "3  female  29.0      0      4      349909  21.0750   null        S    G  \n",
       "4    male  31.0      1      0  F.C. 12750  52.0000    B71        S    B  "
      ]
     },
     "execution_count": 23,
     "metadata": {},
     "output_type": "execute_result"
    }
   ],
   "source": [
    "df.head()"
   ]
  },
  {
   "cell_type": "code",
   "execution_count": 24,
   "id": "3a06c2f2",
   "metadata": {},
   "outputs": [
    {
     "data": {
      "text/plain": [
       "Index(['PassengerId', 'Survived', 'Pclass', 'Name', 'Sex', 'Age', 'SibSp',\n",
       "       'Parch', 'Ticket', 'Fare', 'Embarked', 'Bloc'],\n",
       "      dtype='object')"
      ]
     },
     "execution_count": 24,
     "metadata": {},
     "output_type": "execute_result"
    }
   ],
   "source": [
    "df.drop(\"Cabin\", axis=1, inplace=True)\n",
    "df.columns"
   ]
  },
  {
   "cell_type": "code",
   "execution_count": 25,
   "id": "326db9f5",
   "metadata": {},
   "outputs": [],
   "source": [
    "# The dataset is ready to be treated\n",
    "# Visualisation\n"
   ]
  },
  {
   "cell_type": "markdown",
   "id": "a86126cc",
   "metadata": {},
   "source": [
    "Important featres: Pclass, Sex, Age, Bloc, reletives= SibSp+Parch"
   ]
  },
  {
   "cell_type": "code",
   "execution_count": 26,
   "id": "fc178d21",
   "metadata": {},
   "outputs": [
    {
     "data": {
      "text/plain": [
       "Index(['PassengerId', 'Survived', 'Pclass', 'Name', 'Sex', 'Age', 'SibSp',\n",
       "       'Parch', 'Ticket', 'Fare', 'Embarked', 'Bloc', 'Relatives'],\n",
       "      dtype='object')"
      ]
     },
     "execution_count": 26,
     "metadata": {},
     "output_type": "execute_result"
    }
   ],
   "source": [
    "df['Relatives']= df['Parch']+df['SibSp']\n",
    "df.columns"
   ]
  },
  {
   "cell_type": "code",
   "execution_count": 27,
   "id": "b207716e",
   "metadata": {},
   "outputs": [
    {
     "data": {
      "text/plain": [
       "<seaborn.axisgrid.FacetGrid at 0x2c86234c1c0>"
      ]
     },
     "execution_count": 27,
     "metadata": {},
     "output_type": "execute_result"
    },
    {
     "data": {
      "image/png": "[encoded data removed]",
      "text/plain": [
       "<Figure size 412x360 with 1 Axes>"
      ]
     },
     "metadata": {
      "needs_background": "light"
     },
     "output_type": "display_data"
    }
   ],
   "source": [
    "# Distribution of Sex\n",
    "sns.displot(data=df, x=\"Sex\", hue= \"Survived\")"
   ]
  },
  {
   "cell_type": "markdown",
   "id": "7c3bcc9c",
   "metadata": {},
   "source": [
    "More than 50% of women have survived compared to men 70% hass not so the gender could have an impact on chance of survival"
   ]
  },
  {
   "cell_type": "code",
   "execution_count": 28,
   "id": "5f14578c",
   "metadata": {},
   "outputs": [
    {
     "data": {
      "text/plain": [
       "<seaborn.axisgrid.FacetGrid at 0x2c8623a0dc0>"
      ]
     },
     "execution_count": 28,
     "metadata": {},
     "output_type": "execute_result"
    },
    {
     "data": {
      "image/png": "[encoded data removed]",
      "text/plain": [
       "<Figure size 412x360 with 1 Axes>"
      ]
     },
     "metadata": {
      "needs_background": "light"
     },
     "output_type": "display_data"
    }
   ],
   "source": [
    "# Distribution of Age\n",
    "\n",
    "sns.displot(data=df, x=\"Age\",hue= \"Survived\", kde=True)"
   ]
  },
  {
   "cell_type": "markdown",
   "id": "4f33417e",
   "metadata": {},
   "source": [
    "- The distribution of the passengers is varied concerning the age from 1 year to 80 years but the most frequent range is the end of the twenties and the beginning of the thirties \n",
    "- Almost the non survivors are more than the survivors except in the case where the person is less than 20 years old (children and the teenagers)."
   ]
  },
  {
   "cell_type": "code",
   "execution_count": 29,
   "id": "19bb0188",
   "metadata": {},
   "outputs": [
    {
     "data": {
      "text/plain": [
       "<seaborn.axisgrid.FacetGrid at 0x2c8623ea580>"
      ]
     },
     "execution_count": 29,
     "metadata": {},
     "output_type": "execute_result"
    },
    {
     "data": {
      "image/png": "[encoded data removed]",
      "text/plain": [
       "<Figure size 412x360 with 1 Axes>"
      ]
     },
     "metadata": {
      "needs_background": "light"
     },
     "output_type": "display_data"
    }
   ],
   "source": [
    "# Distribution of Pclass\n",
    "sns.displot(data=df, x=\"Pclass\",hue= \"Survived\", kde=True)"
   ]
  },
  {
   "cell_type": "markdown",
   "id": "f59b2d0d",
   "metadata": {},
   "source": [
    "- The majority of the passengers are from 3 classes almost double the number of the other two classes counted together.\n",
    "- The only class where the number of survivors exceeds the number of non survivors is the first class, the 2 class almost equal but in the 3 class more than 50% didn't survive.\n",
    "- Probably the class has an impact on the chance of survival."
   ]
  },
  {
   "cell_type": "code",
   "execution_count": 30,
   "id": "60d0909c",
   "metadata": {},
   "outputs": [
    {
     "data": {
      "text/plain": [
       "<seaborn.axisgrid.FacetGrid at 0x2c862119c40>"
      ]
     },
     "execution_count": 30,
     "metadata": {},
     "output_type": "execute_result"
    },
    {
     "data": {
      "image/png": "[encoded data removed]",
      "text/plain": [
       "<Figure size 412x360 with 1 Axes>"
      ]
     },
     "metadata": {
      "needs_background": "light"
     },
     "output_type": "display_data"
    }
   ],
   "source": [
    "# Distribution of Emberked\n",
    "sns.displot(data=df, x=\"Embarked\",hue= \"Survived\", kde=True)"
   ]
  },
  {
   "cell_type": "markdown",
   "id": "57a4ba2d",
   "metadata": {},
   "source": [
    "- More passengers are embarked from port S.\n",
    "- The number of people embarked from port C, Q almost equals the number of survivors and not survivors, while in port S almost the majority didn't survive."
   ]
  },
  {
   "cell_type": "code",
   "execution_count": 31,
   "id": "644bf91f",
   "metadata": {},
   "outputs": [
    {
     "name": "stderr",
     "output_type": "stream",
     "text": [
      "C:\\Users\\HP\\anaconda3\\lib\\site-packages\\seaborn\\distributions.py:2211: UserWarning: `displot` is a figure-level function and does not accept the ax= paramter. You may wish to try histplot.\n",
      "  warnings.warn(msg, UserWarning)\n"
     ]
    },
    {
     "data": {
      "text/plain": [
       "<seaborn.axisgrid.FacetGrid at 0x2c8623222b0>"
      ]
     },
     "execution_count": 31,
     "metadata": {},
     "output_type": "execute_result"
    },
    {
     "data": {
      "image/png": "[encoded data removed]",
      "text/plain": [
       "<Figure size 412x360 with 1 Axes>"
      ]
     },
     "metadata": {
      "needs_background": "light"
     },
     "output_type": "display_data"
    }
   ],
   "source": [
    "# Distribution of Emberked\n",
    "sns.displot(ax=axes[0, 0],data=df, x=\"Relatives\",hue= \"Survived\", kde=True)"
   ]
  },
  {
   "cell_type": "markdown",
   "id": "f5be4f26",
   "metadata": {},
   "source": [
    "- People with 1 to 3 relatives have survived more than the others who have more than 3, but what surprises me is that they are even more likely to survive than people with no relatives"
   ]
  },
  {
   "cell_type": "code",
   "execution_count": 32,
   "id": "645dfa2d",
   "metadata": {},
   "outputs": [
    {
     "data": {
      "text/plain": [
       "<seaborn.axisgrid.FacetGrid at 0x2c862378b20>"
      ]
     },
     "execution_count": 32,
     "metadata": {},
     "output_type": "execute_result"
    },
    {
     "data": {
      "image/png": "[encoded data removed]",
      "text/plain": [
       "<Figure size 412x360 with 1 Axes>"
      ]
     },
     "metadata": {
      "needs_background": "light"
     },
     "output_type": "display_data"
    }
   ],
   "source": [
    "sns.displot(data=df, x=\"Bloc\",hue= \"Survived\", kde=True)"
   ]
  },
  {
   "cell_type": "markdown",
   "id": "3d3bb36e",
   "metadata": {},
   "source": [
    "- The distribution of passengers is varied between the zones: A,B,D,E,F,G,T\n",
    "- The areas where the number of survivors is greater than the non-survivors: B,C,D,F. \n",
    "- A and T almost equal \n",
    "- The number of non-survivors in E and G is almost double that of the survivors."
   ]
  },
  {
   "cell_type": "code",
   "execution_count": 33,
   "id": "4b12cff5",
   "metadata": {},
   "outputs": [],
   "source": [
    "# Combined features \n",
    "\n",
    "# Sex, Age, Survived"
   ]
  },
  {
   "cell_type": "code",
   "execution_count": 34,
   "id": "06934616",
   "metadata": {},
   "outputs": [
    {
     "name": "stderr",
     "output_type": "stream",
     "text": [
      "C:\\Users\\HP\\anaconda3\\lib\\site-packages\\seaborn\\axisgrid.py:337: UserWarning: The `size` parameter has been renamed to `height`; please update your code.\n",
      "  warnings.warn(msg, UserWarning)\n",
      "C:\\Users\\HP\\anaconda3\\lib\\site-packages\\seaborn\\axisgrid.py:670: UserWarning: Using the barplot function without specifying `order` is likely to produce an incorrect plot.\n",
      "  warnings.warn(warning)\n"
     ]
    },
    {
     "data": {
      "text/plain": [
       "<seaborn.axisgrid.FacetGrid at 0x2c8638bf940>"
      ]
     },
     "execution_count": 34,
     "metadata": {},
     "output_type": "execute_result"
    },
    {
     "data": {
      "image/png": "[encoded data removed]",
      "text/plain": [
       "<Figure size 514.88x158.4 with 2 Axes>"
      ]
     },
     "metadata": {
      "needs_background": "light"
     },
     "output_type": "display_data"
    }
   ],
   "source": [
    "grid = sns.FacetGrid(Cabin_not_null, col=\"Survived\", size=2.2, aspect=1.6)\n",
    "grid.map(sns.barplot,'Sex', 'Age', alpha=.5, ci=None)\n",
    "grid.add_legend()"
   ]
  },
  {
   "cell_type": "markdown",
   "id": "4e3a2811",
   "metadata": {},
   "source": [
    "- The survivors are less than 40 years old, the gender doesn't affect that much in this case but for the non survivors there is more male than female"
   ]
  },
  {
   "cell_type": "code",
   "execution_count": 35,
   "id": "472de619",
   "metadata": {},
   "outputs": [
    {
     "name": "stderr",
     "output_type": "stream",
     "text": [
      "C:\\Users\\HP\\anaconda3\\lib\\site-packages\\seaborn\\axisgrid.py:670: UserWarning: Using the barplot function without specifying `order` is likely to produce an incorrect plot.\n",
      "  warnings.warn(warning)\n"
     ]
    },
    {
     "data": {
      "text/plain": [
       "<seaborn.axisgrid.FacetGrid at 0x2c863838430>"
      ]
     },
     "execution_count": 35,
     "metadata": {},
     "output_type": "execute_result"
    },
    {
     "data": {
      "image/png": "[encoded data removed]",
      "text/plain": [
       "<Figure size 699.2x648 with 6 Axes>"
      ]
     },
     "metadata": {
      "needs_background": "light"
     },
     "output_type": "display_data"
    }
   ],
   "source": [
    "# Combined features \n",
    "\n",
    "# Sex, Age, Survived, Pclass\n",
    "grid = sns.FacetGrid(df, row='Pclass', col='Survived', aspect=1.6)\n",
    "# something strange is happening here; this isn't right\n",
    "grid.map(sns.barplot, 'Sex','Age', alpha=.5)\n",
    "grid.add_legend()"
   ]
  },
  {
   "cell_type": "markdown",
   "id": "9d1ce32d",
   "metadata": {},
   "source": [
    "- The age range in the 2 and 3 classes is less than 30 years old against 1 class up to 40 years old \n",
    "- The number of survivors is higher for the passenger of the 1 class.\n",
    "- For the three classes in the case of survival the number of female is more than male.\n",
    "- For the 2 and 3 classes in the case of non-survived the number of female and male is almost equal while for the 1 class there are more non-survived female than male"
   ]
  },
  {
   "cell_type": "code",
   "execution_count": 36,
   "id": "eeba581c",
   "metadata": {},
   "outputs": [
    {
     "name": "stderr",
     "output_type": "stream",
     "text": [
      "C:\\Users\\HP\\anaconda3\\lib\\site-packages\\seaborn\\axisgrid.py:670: UserWarning: Using the barplot function without specifying `order` is likely to produce an incorrect plot.\n",
      "  warnings.warn(warning)\n"
     ]
    },
    {
     "data": {
      "text/plain": [
       "<seaborn.axisgrid.FacetGrid at 0x2c8639997f0>"
      ]
     },
     "execution_count": 36,
     "metadata": {},
     "output_type": "execute_result"
    },
    {
     "data": {
      "image/png": "[encoded data removed]",
      "text/plain": [
       "<Figure size 699.2x648 with 6 Axes>"
      ]
     },
     "metadata": {
      "needs_background": "light"
     },
     "output_type": "display_data"
    }
   ],
   "source": [
    "# Combined features \n",
    "\n",
    "# Pclass, Fare, Survived, Embarked\n",
    "grid = sns.FacetGrid(df, row='Embarked', col='Survived', aspect=1.6)\n",
    "# something strange is happening here; this isn't right\n",
    "grid.map(sns.barplot, 'Pclass','Fare', alpha=.5)\n",
    "grid.add_legend()"
   ]
  },
  {
   "cell_type": "markdown",
   "id": "5eae110a",
   "metadata": {},
   "source": [
    "- In both cases (survived or not) whatever the port of embarkation the number of passengers of the 1 class is higher than the other classes.\n",
    "- Passengers who have not survived the price of their ticket is cheaper than the survivors in the case of the 3 ports.\n",
    "- The most expensive ticket price and the Q port=> the highest number of survivors  "
   ]
  },
  {
   "cell_type": "code",
   "execution_count": 37,
   "id": "d440284d",
   "metadata": {},
   "outputs": [
    {
     "name": "stderr",
     "output_type": "stream",
     "text": [
      "C:\\Users\\HP\\anaconda3\\lib\\site-packages\\seaborn\\axisgrid.py:670: UserWarning: Using the barplot function without specifying `order` is likely to produce an incorrect plot.\n",
      "  warnings.warn(warning)\n"
     ]
    },
    {
     "data": {
      "text/plain": [
       "<seaborn.axisgrid.FacetGrid at 0x2c864390160>"
      ]
     },
     "execution_count": 37,
     "metadata": {},
     "output_type": "execute_result"
    },
    {
     "data": {
      "image/png": "[encoded data removed]",
      "text/plain": [
       "<Figure size 872x648 with 6 Axes>"
      ]
     },
     "metadata": {
      "needs_background": "light"
     },
     "output_type": "display_data"
    }
   ],
   "source": [
    "# Combined features \n",
    "\n",
    "# Pclass, Fare, Survived, Relatives\n",
    "grid = sns.FacetGrid(df, row='Pclass', col='Survived', aspect = 2)\n",
    "# something strange is happening here; this isn't right\n",
    "grid.map(sns.barplot,'Relatives', 'Fare',alpha=.5)\n",
    "grid.add_legend()"
   ]
  },
  {
   "cell_type": "markdown",
   "id": "5cb04859",
   "metadata": {},
   "source": []
  },
  {
   "cell_type": "code",
   "execution_count": 38,
   "id": "237206b8",
   "metadata": {},
   "outputs": [],
   "source": [
    "def plot_correlation_map( df ):\n",
    "\n",
    "    corr = df.corr()\n",
    "\n",
    "    s , ax = plt.subplots( figsize =( 12 , 10 ) )\n",
    "\n",
    "    cmap = sns.diverging_palette( 220 , 10 , as_cmap = True )\n",
    "\n",
    "    s = sns.heatmap(\n",
    "\n",
    "        corr, \n",
    "\n",
    "        cmap = cmap,\n",
    "\n",
    "        square=True, \n",
    "\n",
    "        cbar_kws={ 'shrink' : .9 }, \n",
    "\n",
    "        ax=ax, \n",
    "\n",
    "        annot = True, \n",
    "\n",
    "        annot_kws = { 'fontsize' : 12 }\n",
    "\n",
    "        )"
   ]
  },
  {
   "cell_type": "code",
   "execution_count": 39,
   "id": "71b5c6dc",
   "metadata": {},
   "outputs": [
    {
     "data": {
      "image/png": "[encoded data removed]",
      "text/plain": [
       "<Figure size 864x720 with 2 Axes>"
      ]
     },
     "metadata": {
      "needs_background": "light"
     },
     "output_type": "display_data"
    }
   ],
   "source": [
    "plot_correlation_map(df)"
   ]
  },
  {
   "cell_type": "markdown",
   "id": "6373890f",
   "metadata": {},
   "source": [
    "- It gives the correlations between the different columns.\n",
    "- Columns are positively correlated : (Parch, Sibs ), \n",
    "- Columns are negatively correlated:(Pclass, Fare),(Pclass, Age)\n",
    "- The highest correlation is between:(Pclass, Fare)\n",
    "- Non-correlated Columns :(PassengerId, Parch)"
   ]
  },
  {
   "cell_type": "code",
   "execution_count": 40,
   "id": "035d9857",
   "metadata": {},
   "outputs": [
    {
     "data": {
      "text/html": [
       "<div>\n",
       "<style scoped>\n",
       "    .dataframe tbody tr th:only-of-type {\n",
       "        vertical-align: middle;\n",
       "    }\n",
       "\n",
       "    .dataframe tbody tr th {\n",
       "        vertical-align: top;\n",
       "    }\n",
       "\n",
       "    .dataframe thead th {\n",
       "        text-align: right;\n",
       "    }\n",
       "</style>\n",
       "<table border=\"1\" class=\"dataframe\">\n",
       "  <thead>\n",
       "    <tr style=\"text-align: right;\">\n",
       "      <th></th>\n",
       "      <th>Pclass</th>\n",
       "    </tr>\n",
       "    <tr>\n",
       "      <th>Survived</th>\n",
       "      <th></th>\n",
       "    </tr>\n",
       "  </thead>\n",
       "  <tbody>\n",
       "    <tr>\n",
       "      <th>0</th>\n",
       "      <td>2.531876</td>\n",
       "    </tr>\n",
       "    <tr>\n",
       "      <th>1</th>\n",
       "      <td>1.950292</td>\n",
       "    </tr>\n",
       "  </tbody>\n",
       "</table>\n",
       "</div>"
      ],
      "text/plain": [
       "            Pclass\n",
       "Survived          \n",
       "0         2.531876\n",
       "1         1.950292"
      ]
     },
     "execution_count": 40,
     "metadata": {},
     "output_type": "execute_result"
    }
   ],
   "source": [
    "df.replace({\"Survived\":{\"Yes\":1,\"No\":0}}, inplace=True)\n",
    "df[[\"Survived\",\"Pclass\"]].groupby([\"Survived\"], as_index=True).mean()"
   ]
  },
  {
   "cell_type": "code",
   "execution_count": 41,
   "id": "dde217db",
   "metadata": {},
   "outputs": [
    {
     "data": {
      "text/html": [
       "<div>\n",
       "<style scoped>\n",
       "    .dataframe tbody tr th:only-of-type {\n",
       "        vertical-align: middle;\n",
       "    }\n",
       "\n",
       "    .dataframe tbody tr th {\n",
       "        vertical-align: top;\n",
       "    }\n",
       "\n",
       "    .dataframe thead th {\n",
       "        text-align: right;\n",
       "    }\n",
       "</style>\n",
       "<table border=\"1\" class=\"dataframe\">\n",
       "  <thead>\n",
       "    <tr style=\"text-align: right;\">\n",
       "      <th></th>\n",
       "      <th>PassengerId</th>\n",
       "      <th>Survived</th>\n",
       "      <th>Pclass</th>\n",
       "      <th>Name</th>\n",
       "      <th>Sex</th>\n",
       "      <th>Age</th>\n",
       "      <th>SibSp</th>\n",
       "      <th>Parch</th>\n",
       "      <th>Ticket</th>\n",
       "      <th>Fare</th>\n",
       "      <th>Embarked</th>\n",
       "      <th>Bloc</th>\n",
       "      <th>Relatives</th>\n",
       "      <th>Title</th>\n",
       "    </tr>\n",
       "  </thead>\n",
       "  <tbody>\n",
       "    <tr>\n",
       "      <th>0</th>\n",
       "      <td>343</td>\n",
       "      <td>0</td>\n",
       "      <td>2</td>\n",
       "      <td>Collander, Mr. Erik Gustaf</td>\n",
       "      <td>male</td>\n",
       "      <td>28.0</td>\n",
       "      <td>0</td>\n",
       "      <td>0</td>\n",
       "      <td>248740</td>\n",
       "      <td>13.0000</td>\n",
       "      <td>S</td>\n",
       "      <td>D</td>\n",
       "      <td>0</td>\n",
       "      <td>mr.</td>\n",
       "    </tr>\n",
       "    <tr>\n",
       "      <th>1</th>\n",
       "      <td>76</td>\n",
       "      <td>0</td>\n",
       "      <td>3</td>\n",
       "      <td>Moen, Mr. Sigurd Hansen</td>\n",
       "      <td>male</td>\n",
       "      <td>25.0</td>\n",
       "      <td>0</td>\n",
       "      <td>0</td>\n",
       "      <td>348123</td>\n",
       "      <td>7.6500</td>\n",
       "      <td>S</td>\n",
       "      <td>F</td>\n",
       "      <td>0</td>\n",
       "      <td>mr.</td>\n",
       "    </tr>\n",
       "    <tr>\n",
       "      <th>2</th>\n",
       "      <td>641</td>\n",
       "      <td>0</td>\n",
       "      <td>3</td>\n",
       "      <td>Jensen, Mr. Hans Peder</td>\n",
       "      <td>male</td>\n",
       "      <td>20.0</td>\n",
       "      <td>0</td>\n",
       "      <td>0</td>\n",
       "      <td>350050</td>\n",
       "      <td>7.8542</td>\n",
       "      <td>S</td>\n",
       "      <td>G</td>\n",
       "      <td>0</td>\n",
       "      <td>mr.</td>\n",
       "    </tr>\n",
       "    <tr>\n",
       "      <th>3</th>\n",
       "      <td>568</td>\n",
       "      <td>0</td>\n",
       "      <td>3</td>\n",
       "      <td>Palsson, Mrs. Nils (Alma Cornelia Berglund)</td>\n",
       "      <td>female</td>\n",
       "      <td>29.0</td>\n",
       "      <td>0</td>\n",
       "      <td>4</td>\n",
       "      <td>349909</td>\n",
       "      <td>21.0750</td>\n",
       "      <td>S</td>\n",
       "      <td>G</td>\n",
       "      <td>4</td>\n",
       "      <td>mrs.</td>\n",
       "    </tr>\n",
       "    <tr>\n",
       "      <th>4</th>\n",
       "      <td>672</td>\n",
       "      <td>0</td>\n",
       "      <td>1</td>\n",
       "      <td>Davidson, Mr. Thornton</td>\n",
       "      <td>male</td>\n",
       "      <td>31.0</td>\n",
       "      <td>1</td>\n",
       "      <td>0</td>\n",
       "      <td>F.C. 12750</td>\n",
       "      <td>52.0000</td>\n",
       "      <td>S</td>\n",
       "      <td>B</td>\n",
       "      <td>1</td>\n",
       "      <td>mr.</td>\n",
       "    </tr>\n",
       "  </tbody>\n",
       "</table>\n",
       "</div>"
      ],
      "text/plain": [
       "   PassengerId  Survived  Pclass                                         Name  \\\n",
       "0          343         0       2                   Collander, Mr. Erik Gustaf   \n",
       "1           76         0       3                      Moen, Mr. Sigurd Hansen   \n",
       "2          641         0       3                       Jensen, Mr. Hans Peder   \n",
       "3          568         0       3  Palsson, Mrs. Nils (Alma Cornelia Berglund)   \n",
       "4          672         0       1                       Davidson, Mr. Thornton   \n",
       "\n",
       "      Sex   Age  SibSp  Parch      Ticket     Fare Embarked Bloc  Relatives  \\\n",
       "0    male  28.0      0      0      248740  13.0000        S    D          0   \n",
       "1    male  25.0      0      0      348123   7.6500        S    F          0   \n",
       "2    male  20.0      0      0      350050   7.8542        S    G          0   \n",
       "3  female  29.0      0      4      349909  21.0750        S    G          4   \n",
       "4    male  31.0      1      0  F.C. 12750  52.0000        S    B          1   \n",
       "\n",
       "  Title  \n",
       "0   mr.  \n",
       "1   mr.  \n",
       "2   mr.  \n",
       "3  mrs.  \n",
       "4   mr.  "
      ]
     },
     "execution_count": 41,
     "metadata": {},
     "output_type": "execute_result"
    }
   ],
   "source": [
    "import seaborn as sns\n",
    "df[\"Title\"]=df[\"Name\"].str.lower().str.extract('([a-z]*\\.)', expand=True)\n",
    "df.head()"
   ]
  },
  {
   "cell_type": "code",
   "execution_count": 42,
   "id": "0d8e9cf7",
   "metadata": {},
   "outputs": [
    {
     "data": {
      "text/plain": [
       "<seaborn.axisgrid.FacetGrid at 0x2c864a23490>"
      ]
     },
     "execution_count": 42,
     "metadata": {},
     "output_type": "execute_result"
    },
    {
     "data": {
      "image/png": "[encoded data removed]",
      "text/plain": [
       "<Figure size 411.875x360 with 1 Axes>"
      ]
     },
     "metadata": {
      "needs_background": "light"
     },
     "output_type": "display_data"
    }
   ],
   "source": [
    "f= sns.displot(data=df, x=\"Title\",hue= \"Survived\", kde=True)\n",
    "f.set_xticklabels(rotation=50)"
   ]
  },
  {
   "cell_type": "markdown",
   "id": "ce9ec19c",
   "metadata": {},
   "source": [
    "- More title passengers mr\n",
    "- Number of survived almost double of non survived for miss and mrs\n",
    "- The majority of mr's didn't survived"
   ]
  },
  {
   "cell_type": "code",
   "execution_count": 43,
   "id": "be1f620c",
   "metadata": {},
   "outputs": [
    {
     "name": "stderr",
     "output_type": "stream",
     "text": [
      "C:\\Users\\HP\\anaconda3\\lib\\site-packages\\seaborn\\axisgrid.py:670: UserWarning: Using the barplot function without specifying `order` is likely to produce an incorrect plot.\n",
      "  warnings.warn(warning)\n"
     ]
    },
    {
     "data": {
      "text/plain": [
       "<seaborn.axisgrid.FacetGrid at 0x2c864c78a00>"
      ]
     },
     "execution_count": 43,
     "metadata": {},
     "output_type": "execute_result"
    },
    {
     "data": {
      "image/png": "[encoded data removed]",
      "text/plain": [
       "<Figure size 656x3672 with 51 Axes>"
      ]
     },
     "metadata": {
      "needs_background": "light"
     },
     "output_type": "display_data"
    }
   ],
   "source": [
    "grid = sns.FacetGrid(df, row=\"Title\", col=\"Pclass\")\n",
    "grid.map(sns.barplot,'Survived','Relatives')\n",
    "grid.add_legend()"
   ]
  },
  {
   "cell_type": "code",
   "execution_count": 44,
   "id": "c023d11a",
   "metadata": {},
   "outputs": [
    {
     "name": "stderr",
     "output_type": "stream",
     "text": [
      "C:\\Users\\HP\\anaconda3\\lib\\site-packages\\seaborn\\axisgrid.py:670: UserWarning: Using the barplot function without specifying `order` is likely to produce an incorrect plot.\n",
      "  warnings.warn(warning)\n"
     ]
    },
    {
     "data": {
      "text/plain": [
       "<seaborn.axisgrid.FacetGrid at 0x2c8677f8a90>"
      ]
     },
     "execution_count": 44,
     "metadata": {},
     "output_type": "execute_result"
    },
    {
     "data": {
      "image/png": "[encoded data removed]",
      "text/plain": [
       "<Figure size 440x648 with 6 Axes>"
      ]
     },
     "metadata": {
      "needs_background": "light"
     },
     "output_type": "display_data"
    }
   ],
   "source": [
    "grid = sns.FacetGrid(df, row=\"Pclass\", col=\"Survived\")\n",
    "grid.map(sns.barplot,'Title','Relatives')\n",
    "grid.add_legend()"
   ]
  },
  {
   "cell_type": "markdown",
   "id": "34f394a8",
   "metadata": {},
   "source": [
    "- The highest number of non-survivors is in the case: passengers of class 3 of master title with more than 5 relative.\n",
    "- The highest number of survivors is in the case: passengers of class 2,3 of master title with 2 relative."
   ]
  },
  {
   "cell_type": "code",
   "execution_count": 45,
   "id": "4adc2c3e",
   "metadata": {},
   "outputs": [],
   "source": [
    "import numpy as np\n",
    "Title_Dictionary = {\n",
    "\n",
    "                    \"capt.\":       \"Officer\",\n",
    "\n",
    "                    \"col.\":        \"Officer\",\n",
    "\n",
    "                    \"major.\":      \"Officer\",\n",
    "\n",
    "                      \"dr.\":         \"Officer\",\n",
    "\n",
    "                    \"rev.\":        \"Officer\",\n",
    "\n",
    "                    \"jonkheer.\":   \"Royalty\",\n",
    "\n",
    "                    \"don.\":        \"Royalty\",\n",
    "\n",
    "                    \"sir.\" :       \"Royalty\",\n",
    "\n",
    "                   \"lady.\" :      \"Royalty\",\n",
    "\n",
    "                  \"countess.\": \"Royalty\",\n",
    "\n",
    "                    \"dona.\":       \"Royalty\",\n",
    "\n",
    "                    \"mme.\":        \"Miss\",\n",
    "\n",
    "                    \"mlle.\":       \"Miss\",\n",
    "\n",
    "                    \"miss.\" :      \"Miss\",\n",
    "\n",
    "                    \"ms.\":         \"Mrs\",\n",
    "\n",
    "                    \"mr.\" :        \"Mrs\",\n",
    "\n",
    "                    \"mrs.\" :       \"Mrs\",\n",
    "\n",
    "                    \"master.\" :    \"Master\"\n",
    "}\n"
   ]
  },
  {
   "cell_type": "code",
   "execution_count": 46,
   "id": "f9469ab6",
   "metadata": {},
   "outputs": [],
   "source": [
    "clean_Title={\n",
    "   \"Title\": Title_Dictionary \n",
    "}"
   ]
  },
  {
   "cell_type": "code",
   "execution_count": 47,
   "id": "b5c73ad4",
   "metadata": {},
   "outputs": [
    {
     "data": {
      "text/plain": [
       "Mrs        643\n",
       "Miss       185\n",
       "Master      40\n",
       "Officer     18\n",
       "Royalty      5\n",
       "Name: Title, dtype: int64"
      ]
     },
     "execution_count": 47,
     "metadata": {},
     "output_type": "execute_result"
    }
   ],
   "source": [
    "df.replace(clean_Title, inplace= True)\n",
    "df['Title'].value_counts()"
   ]
  },
  {
   "cell_type": "code",
   "execution_count": 48,
   "id": "41e43d21",
   "metadata": {},
   "outputs": [
    {
     "name": "stderr",
     "output_type": "stream",
     "text": [
      "C:\\Users\\HP\\anaconda3\\lib\\site-packages\\seaborn\\axisgrid.py:670: UserWarning: Using the barplot function without specifying `order` is likely to produce an incorrect plot.\n",
      "  warnings.warn(warning)\n"
     ]
    },
    {
     "data": {
      "text/plain": [
       "<seaborn.axisgrid.FacetGrid at 0x2c8677dd5b0>"
      ]
     },
     "execution_count": 48,
     "metadata": {},
     "output_type": "execute_result"
    },
    {
     "data": {
      "image/png": "[encoded data removed]",
      "text/plain": [
       "<Figure size 656x1080 with 15 Axes>"
      ]
     },
     "metadata": {
      "needs_background": "light"
     },
     "output_type": "display_data"
    }
   ],
   "source": [
    "grid = sns.FacetGrid(df, row=\"Title\", col=\"Pclass\")\n",
    "grid.map(sns.barplot,'Survived','Relatives')\n",
    "grid.add_legend()"
   ]
  },
  {
   "cell_type": "markdown",
   "id": "94369085",
   "metadata": {},
   "source": [
    "- In general the number of relatives is under 2 for all cases except for the class 3\n",
    "- The highest number of non-survivors is in the case: passengers of class 3 of master title with more than 5 relative.\n",
    "- The highest number of survivors is in the case: passengers of class 2,3 of master title with 2 relative.\n",
    "- Passengers with Miss title have more chance to survive whatever the class was.\n",
    "- Passengers with officer title have less chance to survive if the class is 1 or 3."
   ]
  },
  {
   "cell_type": "markdown",
   "id": "76b3873d",
   "metadata": {},
   "source": [
    "FamilySize i have already created Relatives feature ."
   ]
  },
  {
   "cell_type": "code",
   "execution_count": 49,
   "id": "ed2927a4",
   "metadata": {},
   "outputs": [
    {
     "name": "stdout",
     "output_type": "stream",
     "text": [
      "<class 'pandas.core.frame.DataFrame'>\n",
      "RangeIndex: 891 entries, 0 to 890\n",
      "Data columns (total 14 columns):\n",
      " #   Column       Non-Null Count  Dtype  \n",
      "---  ------       --------------  -----  \n",
      " 0   PassengerId  891 non-null    int64  \n",
      " 1   Survived     891 non-null    int64  \n",
      " 2   Pclass       891 non-null    int64  \n",
      " 3   Name         891 non-null    object \n",
      " 4   Sex          891 non-null    object \n",
      " 5   Age          891 non-null    float64\n",
      " 6   SibSp        891 non-null    int64  \n",
      " 7   Parch        891 non-null    int64  \n",
      " 8   Ticket       891 non-null    object \n",
      " 9   Fare         891 non-null    float64\n",
      " 10  Embarked     891 non-null    object \n",
      " 11  Bloc         891 non-null    object \n",
      " 12  Relatives    891 non-null    int64  \n",
      " 13  Title        891 non-null    object \n",
      "dtypes: float64(2), int64(6), object(6)\n",
      "memory usage: 97.6+ KB\n"
     ]
    }
   ],
   "source": [
    "df.info()"
   ]
  },
  {
   "cell_type": "code",
   "execution_count": 50,
   "id": "3fb310cf",
   "metadata": {},
   "outputs": [
    {
     "name": "stdout",
     "output_type": "stream",
     "text": [
      "<class 'pandas.core.frame.DataFrame'>\n",
      "RangeIndex: 891 entries, 0 to 890\n",
      "Data columns (total 14 columns):\n",
      " #   Column       Non-Null Count  Dtype  \n",
      "---  ------       --------------  -----  \n",
      " 0   PassengerId  891 non-null    int64  \n",
      " 1   Survived     891 non-null    int64  \n",
      " 2   Pclass       891 non-null    int64  \n",
      " 3   Name         891 non-null    object \n",
      " 4   Sex          891 non-null    int32  \n",
      " 5   Age          891 non-null    float64\n",
      " 6   SibSp        891 non-null    int64  \n",
      " 7   Parch        891 non-null    int64  \n",
      " 8   Ticket       891 non-null    int32  \n",
      " 9   Fare         891 non-null    float64\n",
      " 10  Embarked     891 non-null    int32  \n",
      " 11  Bloc         891 non-null    int32  \n",
      " 12  Relatives    891 non-null    int64  \n",
      " 13  Title        891 non-null    object \n",
      "dtypes: float64(2), int32(4), int64(6), object(2)\n",
      "memory usage: 83.7+ KB\n"
     ]
    }
   ],
   "source": [
    "from sklearn.preprocessing import LabelEncoder\n",
    "encoder=LabelEncoder()\n",
    "df['Name'].astype(str)\n",
    "df['Sex']=encoder.fit_transform(df['Sex'])\n",
    "df['Ticket']=encoder.fit_transform(df['Ticket'])\n",
    "df['Embarked']=encoder.fit_transform(df['Embarked'])\n",
    "df['Bloc']= encoder.fit_transform(df['Bloc'])\n",
    "df.info()"
   ]
  },
  {
   "cell_type": "code",
   "execution_count": 51,
   "id": "f2c6aeb8",
   "metadata": {},
   "outputs": [
    {
     "data": {
      "text/html": [
       "<div>\n",
       "<style scoped>\n",
       "    .dataframe tbody tr th:only-of-type {\n",
       "        vertical-align: middle;\n",
       "    }\n",
       "\n",
       "    .dataframe tbody tr th {\n",
       "        vertical-align: top;\n",
       "    }\n",
       "\n",
       "    .dataframe thead th {\n",
       "        text-align: right;\n",
       "    }\n",
       "</style>\n",
       "<table border=\"1\" class=\"dataframe\">\n",
       "  <thead>\n",
       "    <tr style=\"text-align: right;\">\n",
       "      <th></th>\n",
       "      <th>PassengerId</th>\n",
       "      <th>Survived</th>\n",
       "      <th>Pclass</th>\n",
       "      <th>Name</th>\n",
       "      <th>Sex</th>\n",
       "      <th>Age</th>\n",
       "      <th>SibSp</th>\n",
       "      <th>Parch</th>\n",
       "      <th>Ticket</th>\n",
       "      <th>Fare</th>\n",
       "      <th>Embarked</th>\n",
       "      <th>Bloc</th>\n",
       "      <th>Relatives</th>\n",
       "      <th>Title</th>\n",
       "    </tr>\n",
       "  </thead>\n",
       "  <tbody>\n",
       "    <tr>\n",
       "      <th>0</th>\n",
       "      <td>343</td>\n",
       "      <td>0</td>\n",
       "      <td>2</td>\n",
       "      <td>Collander, Mr. Erik Gustaf</td>\n",
       "      <td>1</td>\n",
       "      <td>28.0</td>\n",
       "      <td>0</td>\n",
       "      <td>0</td>\n",
       "      <td>159</td>\n",
       "      <td>13.0000</td>\n",
       "      <td>2</td>\n",
       "      <td>3</td>\n",
       "      <td>0</td>\n",
       "      <td>Mrs</td>\n",
       "    </tr>\n",
       "    <tr>\n",
       "      <th>1</th>\n",
       "      <td>76</td>\n",
       "      <td>0</td>\n",
       "      <td>3</td>\n",
       "      <td>Moen, Mr. Sigurd Hansen</td>\n",
       "      <td>1</td>\n",
       "      <td>25.0</td>\n",
       "      <td>0</td>\n",
       "      <td>0</td>\n",
       "      <td>347</td>\n",
       "      <td>7.6500</td>\n",
       "      <td>2</td>\n",
       "      <td>5</td>\n",
       "      <td>0</td>\n",
       "      <td>Mrs</td>\n",
       "    </tr>\n",
       "    <tr>\n",
       "      <th>2</th>\n",
       "      <td>641</td>\n",
       "      <td>0</td>\n",
       "      <td>3</td>\n",
       "      <td>Jensen, Mr. Hans Peder</td>\n",
       "      <td>1</td>\n",
       "      <td>20.0</td>\n",
       "      <td>0</td>\n",
       "      <td>0</td>\n",
       "      <td>409</td>\n",
       "      <td>7.8542</td>\n",
       "      <td>2</td>\n",
       "      <td>6</td>\n",
       "      <td>0</td>\n",
       "      <td>Mrs</td>\n",
       "    </tr>\n",
       "    <tr>\n",
       "      <th>3</th>\n",
       "      <td>568</td>\n",
       "      <td>0</td>\n",
       "      <td>3</td>\n",
       "      <td>Palsson, Mrs. Nils (Alma Cornelia Berglund)</td>\n",
       "      <td>0</td>\n",
       "      <td>29.0</td>\n",
       "      <td>0</td>\n",
       "      <td>4</td>\n",
       "      <td>395</td>\n",
       "      <td>21.0750</td>\n",
       "      <td>2</td>\n",
       "      <td>6</td>\n",
       "      <td>4</td>\n",
       "      <td>Mrs</td>\n",
       "    </tr>\n",
       "    <tr>\n",
       "      <th>4</th>\n",
       "      <td>672</td>\n",
       "      <td>0</td>\n",
       "      <td>1</td>\n",
       "      <td>Davidson, Mr. Thornton</td>\n",
       "      <td>1</td>\n",
       "      <td>31.0</td>\n",
       "      <td>1</td>\n",
       "      <td>0</td>\n",
       "      <td>569</td>\n",
       "      <td>52.0000</td>\n",
       "      <td>2</td>\n",
       "      <td>1</td>\n",
       "      <td>1</td>\n",
       "      <td>Mrs</td>\n",
       "    </tr>\n",
       "    <tr>\n",
       "      <th>5</th>\n",
       "      <td>105</td>\n",
       "      <td>0</td>\n",
       "      <td>3</td>\n",
       "      <td>Gustafsson, Mr. Anders Vilhelm</td>\n",
       "      <td>1</td>\n",
       "      <td>37.0</td>\n",
       "      <td>2</td>\n",
       "      <td>0</td>\n",
       "      <td>245</td>\n",
       "      <td>7.9250</td>\n",
       "      <td>2</td>\n",
       "      <td>6</td>\n",
       "      <td>2</td>\n",
       "      <td>Mrs</td>\n",
       "    </tr>\n",
       "    <tr>\n",
       "      <th>6</th>\n",
       "      <td>576</td>\n",
       "      <td>0</td>\n",
       "      <td>3</td>\n",
       "      <td>Patchett, Mr. George</td>\n",
       "      <td>1</td>\n",
       "      <td>19.0</td>\n",
       "      <td>0</td>\n",
       "      <td>0</td>\n",
       "      <td>420</td>\n",
       "      <td>14.5000</td>\n",
       "      <td>2</td>\n",
       "      <td>4</td>\n",
       "      <td>0</td>\n",
       "      <td>Mrs</td>\n",
       "    </tr>\n",
       "    <tr>\n",
       "      <th>7</th>\n",
       "      <td>382</td>\n",
       "      <td>1</td>\n",
       "      <td>3</td>\n",
       "      <td>Nakid, Miss. Maria (\"Mary\")</td>\n",
       "      <td>0</td>\n",
       "      <td>1.0</td>\n",
       "      <td>0</td>\n",
       "      <td>2</td>\n",
       "      <td>187</td>\n",
       "      <td>15.7417</td>\n",
       "      <td>0</td>\n",
       "      <td>6</td>\n",
       "      <td>2</td>\n",
       "      <td>Miss</td>\n",
       "    </tr>\n",
       "    <tr>\n",
       "      <th>8</th>\n",
       "      <td>228</td>\n",
       "      <td>0</td>\n",
       "      <td>3</td>\n",
       "      <td>Lovell, Mr. John Hall (\"Henry\")</td>\n",
       "      <td>1</td>\n",
       "      <td>20.5</td>\n",
       "      <td>0</td>\n",
       "      <td>0</td>\n",
       "      <td>525</td>\n",
       "      <td>7.2500</td>\n",
       "      <td>2</td>\n",
       "      <td>4</td>\n",
       "      <td>0</td>\n",
       "      <td>Mrs</td>\n",
       "    </tr>\n",
       "    <tr>\n",
       "      <th>9</th>\n",
       "      <td>433</td>\n",
       "      <td>1</td>\n",
       "      <td>2</td>\n",
       "      <td>Louch, Mrs. Charles Alexander (Alice Adelaide ...</td>\n",
       "      <td>0</td>\n",
       "      <td>42.0</td>\n",
       "      <td>1</td>\n",
       "      <td>0</td>\n",
       "      <td>627</td>\n",
       "      <td>26.0000</td>\n",
       "      <td>2</td>\n",
       "      <td>4</td>\n",
       "      <td>1</td>\n",
       "      <td>Mrs</td>\n",
       "    </tr>\n",
       "  </tbody>\n",
       "</table>\n",
       "</div>"
      ],
      "text/plain": [
       "   PassengerId  Survived  Pclass  \\\n",
       "0          343         0       2   \n",
       "1           76         0       3   \n",
       "2          641         0       3   \n",
       "3          568         0       3   \n",
       "4          672         0       1   \n",
       "5          105         0       3   \n",
       "6          576         0       3   \n",
       "7          382         1       3   \n",
       "8          228         0       3   \n",
       "9          433         1       2   \n",
       "\n",
       "                                                Name  Sex   Age  SibSp  Parch  \\\n",
       "0                         Collander, Mr. Erik Gustaf    1  28.0      0      0   \n",
       "1                            Moen, Mr. Sigurd Hansen    1  25.0      0      0   \n",
       "2                             Jensen, Mr. Hans Peder    1  20.0      0      0   \n",
       "3        Palsson, Mrs. Nils (Alma Cornelia Berglund)    0  29.0      0      4   \n",
       "4                             Davidson, Mr. Thornton    1  31.0      1      0   \n",
       "5                     Gustafsson, Mr. Anders Vilhelm    1  37.0      2      0   \n",
       "6                               Patchett, Mr. George    1  19.0      0      0   \n",
       "7                        Nakid, Miss. Maria (\"Mary\")    0   1.0      0      2   \n",
       "8                    Lovell, Mr. John Hall (\"Henry\")    1  20.5      0      0   \n",
       "9  Louch, Mrs. Charles Alexander (Alice Adelaide ...    0  42.0      1      0   \n",
       "\n",
       "   Ticket     Fare  Embarked  Bloc  Relatives Title  \n",
       "0     159  13.0000         2     3          0   Mrs  \n",
       "1     347   7.6500         2     5          0   Mrs  \n",
       "2     409   7.8542         2     6          0   Mrs  \n",
       "3     395  21.0750         2     6          4   Mrs  \n",
       "4     569  52.0000         2     1          1   Mrs  \n",
       "5     245   7.9250         2     6          2   Mrs  \n",
       "6     420  14.5000         2     4          0   Mrs  \n",
       "7     187  15.7417         0     6          2  Miss  \n",
       "8     525   7.2500         2     4          0   Mrs  \n",
       "9     627  26.0000         2     4          1   Mrs  "
      ]
     },
     "execution_count": 51,
     "metadata": {},
     "output_type": "execute_result"
    }
   ],
   "source": [
    "df.head(10)"
   ]
  },
  {
   "cell_type": "code",
   "execution_count": 99,
   "id": "ee677454",
   "metadata": {},
   "outputs": [],
   "source": [
    "X=df[['Sex','Age','Relatives','Fare','SibSp','Parch','Title','Embarked','Pclass']] # selected features \n",
    "Y= df['Survived']# select the target survived"
   ]
  },
  {
   "cell_type": "code",
   "execution_count": 100,
   "id": "9f7a0f38",
   "metadata": {},
   "outputs": [],
   "source": [
    "Z= X.join(Y)\n",
    "Z.to_csv(\"titanic.csv\", index=False)"
   ]
  },
  {
   "cell_type": "code",
   "execution_count": 101,
   "id": "498f7de0",
   "metadata": {},
   "outputs": [],
   "source": [
    "# split  data into train and test test_size =0.3\n",
    "X_train, X_test, Y_train, Y_test= train_test_split(X, Y, test_size=0.30, random_state=124)"
   ]
  },
  {
   "cell_type": "code",
   "execution_count": 102,
   "id": "28cb338a",
   "metadata": {},
   "outputs": [
    {
     "name": "stderr",
     "output_type": "stream",
     "text": [
      "C:\\Users\\HP\\AppData\\Local\\Temp/ipykernel_14068/1275896883.py:1: SettingWithCopyWarning: \n",
      "A value is trying to be set on a copy of a slice from a DataFrame.\n",
      "Try using .loc[row_indexer,col_indexer] = value instead\n",
      "\n",
      "See the caveats in the documentation: https://pandas.pydata.org/pandas-docs/stable/user_guide/indexing.html#returning-a-view-versus-a-copy\n",
      "  X_train['Title']= encoder.fit_transform(X_train['Title'])\n"
     ]
    }
   ],
   "source": [
    "X_train['Title']= encoder.fit_transform(X_train['Title'])"
   ]
  },
  {
   "cell_type": "code",
   "execution_count": 103,
   "id": "5dac32a6",
   "metadata": {},
   "outputs": [
    {
     "name": "stderr",
     "output_type": "stream",
     "text": [
      "C:\\Users\\HP\\AppData\\Local\\Temp/ipykernel_14068/2722298747.py:1: SettingWithCopyWarning: \n",
      "A value is trying to be set on a copy of a slice from a DataFrame.\n",
      "Try using .loc[row_indexer,col_indexer] = value instead\n",
      "\n",
      "See the caveats in the documentation: https://pandas.pydata.org/pandas-docs/stable/user_guide/indexing.html#returning-a-view-versus-a-copy\n",
      "  X_test['Title']= encoder.transform(X_test['Title'])\n"
     ]
    }
   ],
   "source": [
    "X_test['Title']= encoder.transform(X_test['Title'])"
   ]
  },
  {
   "cell_type": "code",
   "execution_count": 104,
   "id": "6f190990",
   "metadata": {},
   "outputs": [],
   "source": [
    "def normalize (df):\n",
    "    features= df.columns\n",
    "    for column in features:\n",
    "        mu = df[column].mean()\n",
    "        sigma = df[column].std()\n",
    "        df[column] = (df[column] - mu)/sigma"
   ]
  },
  {
   "cell_type": "code",
   "execution_count": 105,
   "id": "298083c5",
   "metadata": {},
   "outputs": [
    {
     "name": "stderr",
     "output_type": "stream",
     "text": [
      "C:\\Users\\HP\\AppData\\Local\\Temp/ipykernel_14068/2423762491.py:6: SettingWithCopyWarning: \n",
      "A value is trying to be set on a copy of a slice from a DataFrame.\n",
      "Try using .loc[row_indexer,col_indexer] = value instead\n",
      "\n",
      "See the caveats in the documentation: https://pandas.pydata.org/pandas-docs/stable/user_guide/indexing.html#returning-a-view-versus-a-copy\n",
      "  df[column] = (df[column] - mu)/sigma\n"
     ]
    }
   ],
   "source": [
    "normalize(X_train)\n",
    "normalize(X_test)"
   ]
  },
  {
   "cell_type": "code",
   "execution_count": 108,
   "id": "8254843d",
   "metadata": {},
   "outputs": [
    {
     "name": "stdout",
     "output_type": "stream",
     "text": [
      "0.8134328358208955\n"
     ]
    }
   ],
   "source": [
    "model =LogisticRegression(fit_intercept=True)\n",
    "model.fit(X_train.values,Y_train.values)\n",
    "Y_pred = model.predict(X_test)\n",
    "score =accuracy_score(Y_test,Y_pred) \n",
    "print(score)"
   ]
  },
  {
   "cell_type": "code",
   "execution_count": 60,
   "id": "12bc7100",
   "metadata": {},
   "outputs": [
    {
     "data": {
      "text/plain": [
       "<AxesSubplot:xlabel='Predicted', ylabel='Actual'>"
      ]
     },
     "execution_count": 60,
     "metadata": {},
     "output_type": "execute_result"
    },
    {
     "data": {
      "image/png": "[encoded data removed]",
      "text/plain": [
       "<Figure size 432x288 with 2 Axes>"
      ]
     },
     "metadata": {
      "needs_background": "light"
     },
     "output_type": "display_data"
    }
   ],
   "source": [
    "confusion_matrix = pd.crosstab(Y_test, Y_pred, rownames=['Actual'], colnames=['Predicted'])\n",
    "sns.heatmap(confusion_matrix, annot=True,fmt=\".1f\")"
   ]
  },
  {
   "cell_type": "markdown",
   "id": "e76eb4d5",
   "metadata": {},
   "source": [
    "- True positive > False positive (73/24 = 3 times)\n",
    "- True negative > False negative (147/24= 6 times)"
   ]
  },
  {
   "cell_type": "code",
   "execution_count": 61,
   "id": "87d79e0e",
   "metadata": {},
   "outputs": [
    {
     "name": "stdout",
     "output_type": "stream",
     "text": [
      "              precision    recall  f1-score   support\n",
      "\n",
      "           0       0.83      0.84      0.83       171\n",
      "           1       0.71      0.70      0.70        97\n",
      "\n",
      "    accuracy                           0.79       268\n",
      "   macro avg       0.77      0.77      0.77       268\n",
      "weighted avg       0.79      0.79      0.79       268\n",
      "\n"
     ]
    }
   ],
   "source": [
    "print(classification_report(Y_test,Y_pred))"
   ]
  },
  {
   "cell_type": "code",
   "execution_count": 62,
   "id": "0f8376e8",
   "metadata": {},
   "outputs": [
    {
     "data": {
      "text/html": [
       "<table class=\"simpletable\">\n",
       "<caption>OLS Regression Results</caption>\n",
       "<tr>\n",
       "  <th>Dep. Variable:</th>        <td>Survived</td>     <th>  R-squared:         </th> <td>   0.445</td> \n",
       "</tr>\n",
       "<tr>\n",
       "  <th>Model:</th>                   <td>OLS</td>       <th>  Adj. R-squared:    </th> <td>   0.437</td> \n",
       "</tr>\n",
       "<tr>\n",
       "  <th>Method:</th>             <td>Least Squares</td>  <th>  F-statistic:       </th> <td>   54.16</td> \n",
       "</tr>\n",
       "<tr>\n",
       "  <th>Date:</th>             <td>Mon, 12 Sep 2022</td> <th>  Prob (F-statistic):</th> <td>8.35e-103</td>\n",
       "</tr>\n",
       "<tr>\n",
       "  <th>Time:</th>                 <td>13:29:26</td>     <th>  Log-Likelihood:    </th> <td> -359.39</td> \n",
       "</tr>\n",
       "<tr>\n",
       "  <th>No. Observations:</th>      <td>   891</td>      <th>  AIC:               </th> <td>   746.8</td> \n",
       "</tr>\n",
       "<tr>\n",
       "  <th>Df Residuals:</th>          <td>   877</td>      <th>  BIC:               </th> <td>   813.9</td> \n",
       "</tr>\n",
       "<tr>\n",
       "  <th>Df Model:</th>              <td>    13</td>      <th>                     </th>     <td> </td>    \n",
       "</tr>\n",
       "<tr>\n",
       "  <th>Covariance Type:</th>      <td>nonrobust</td>    <th>                     </th>     <td> </td>    \n",
       "</tr>\n",
       "</table>\n",
       "<table class=\"simpletable\">\n",
       "<tr>\n",
       "          <td></td>            <th>coef</th>     <th>std err</th>      <th>t</th>      <th>P>|t|</th>  <th>[0.025</th>    <th>0.975]</th>  \n",
       "</tr>\n",
       "<tr>\n",
       "  <th>Intercept</th>        <td>    1.8924</td> <td>    0.097</td> <td>   19.492</td> <td> 0.000</td> <td>    1.702</td> <td>    2.083</td>\n",
       "</tr>\n",
       "<tr>\n",
       "  <th>Title[T.Miss]</th>    <td>   -0.6618</td> <td>    0.081</td> <td>   -8.214</td> <td> 0.000</td> <td>   -0.820</td> <td>   -0.504</td>\n",
       "</tr>\n",
       "<tr>\n",
       "  <th>Title[T.Mrs]</th>     <td>   -0.5610</td> <td>    0.071</td> <td>   -7.923</td> <td> 0.000</td> <td>   -0.700</td> <td>   -0.422</td>\n",
       "</tr>\n",
       "<tr>\n",
       "  <th>Title[T.Officer]</th> <td>   -0.5894</td> <td>    0.115</td> <td>   -5.137</td> <td> 0.000</td> <td>   -0.815</td> <td>   -0.364</td>\n",
       "</tr>\n",
       "<tr>\n",
       "  <th>Title[T.Royalty]</th> <td>   -0.5761</td> <td>    0.180</td> <td>   -3.192</td> <td> 0.001</td> <td>   -0.930</td> <td>   -0.222</td>\n",
       "</tr>\n",
       "<tr>\n",
       "  <th>Pclass</th>           <td>   -0.1315</td> <td>    0.026</td> <td>   -5.112</td> <td> 0.000</td> <td>   -0.182</td> <td>   -0.081</td>\n",
       "</tr>\n",
       "<tr>\n",
       "  <th>Sex</th>              <td>   -0.6311</td> <td>    0.038</td> <td>  -16.437</td> <td> 0.000</td> <td>   -0.706</td> <td>   -0.556</td>\n",
       "</tr>\n",
       "<tr>\n",
       "  <th>Age</th>              <td>   -0.0032</td> <td>    0.001</td> <td>   -2.759</td> <td> 0.006</td> <td>   -0.005</td> <td>   -0.001</td>\n",
       "</tr>\n",
       "<tr>\n",
       "  <th>SibSp</th>            <td>   -0.0267</td> <td>    0.012</td> <td>   -2.258</td> <td> 0.024</td> <td>   -0.050</td> <td>   -0.003</td>\n",
       "</tr>\n",
       "<tr>\n",
       "  <th>Parch</th>            <td>   -0.0124</td> <td>    0.014</td> <td>   -0.895</td> <td> 0.371</td> <td>   -0.040</td> <td>    0.015</td>\n",
       "</tr>\n",
       "<tr>\n",
       "  <th>Ticket</th>           <td>   -0.0001</td> <td> 6.62e-05</td> <td>   -1.619</td> <td> 0.106</td> <td>   -0.000</td> <td> 2.27e-05</td>\n",
       "</tr>\n",
       "<tr>\n",
       "  <th>Fare</th>             <td>    0.0006</td> <td>    0.000</td> <td>    1.736</td> <td> 0.083</td> <td>-7.37e-05</td> <td>    0.001</td>\n",
       "</tr>\n",
       "<tr>\n",
       "  <th>Embarked</th>         <td>   -0.0329</td> <td>    0.016</td> <td>   -2.037</td> <td> 0.042</td> <td>   -0.064</td> <td>   -0.001</td>\n",
       "</tr>\n",
       "<tr>\n",
       "  <th>Bloc</th>             <td>   -0.0052</td> <td>    0.011</td> <td>   -0.472</td> <td> 0.637</td> <td>   -0.027</td> <td>    0.016</td>\n",
       "</tr>\n",
       "<tr>\n",
       "  <th>Relatives</th>        <td>   -0.0391</td> <td>    0.006</td> <td>   -6.154</td> <td> 0.000</td> <td>   -0.052</td> <td>   -0.027</td>\n",
       "</tr>\n",
       "</table>\n",
       "<table class=\"simpletable\">\n",
       "<tr>\n",
       "  <th>Omnibus:</th>       <td>45.072</td> <th>  Durbin-Watson:     </th> <td>   1.911</td>\n",
       "</tr>\n",
       "<tr>\n",
       "  <th>Prob(Omnibus):</th> <td> 0.000</td> <th>  Jarque-Bera (JB):  </th> <td>  51.064</td>\n",
       "</tr>\n",
       "<tr>\n",
       "  <th>Skew:</th>          <td> 0.548</td> <th>  Prob(JB):          </th> <td>8.16e-12</td>\n",
       "</tr>\n",
       "<tr>\n",
       "  <th>Kurtosis:</th>      <td> 3.416</td> <th>  Cond. No.          </th> <td>1.39e+18</td>\n",
       "</tr>\n",
       "</table><br/><br/>Notes:<br/>[1] Standard Errors assume that the covariance matrix of the errors is correctly specified.<br/>[2] The smallest eigenvalue is 7.2e-29. This might indicate that there are<br/>strong multicollinearity problems or that the design matrix is singular."
      ],
      "text/plain": [
       "<class 'statsmodels.iolib.summary.Summary'>\n",
       "\"\"\"\n",
       "                            OLS Regression Results                            \n",
       "==============================================================================\n",
       "Dep. Variable:               Survived   R-squared:                       0.445\n",
       "Model:                            OLS   Adj. R-squared:                  0.437\n",
       "Method:                 Least Squares   F-statistic:                     54.16\n",
       "Date:                Mon, 12 Sep 2022   Prob (F-statistic):          8.35e-103\n",
       "Time:                        13:29:26   Log-Likelihood:                -359.39\n",
       "No. Observations:                 891   AIC:                             746.8\n",
       "Df Residuals:                     877   BIC:                             813.9\n",
       "Df Model:                          13                                         \n",
       "Covariance Type:            nonrobust                                         \n",
       "====================================================================================\n",
       "                       coef    std err          t      P>|t|      [0.025      0.975]\n",
       "------------------------------------------------------------------------------------\n",
       "Intercept            1.8924      0.097     19.492      0.000       1.702       2.083\n",
       "Title[T.Miss]       -0.6618      0.081     -8.214      0.000      -0.820      -0.504\n",
       "Title[T.Mrs]        -0.5610      0.071     -7.923      0.000      -0.700      -0.422\n",
       "Title[T.Officer]    -0.5894      0.115     -5.137      0.000      -0.815      -0.364\n",
       "Title[T.Royalty]    -0.5761      0.180     -3.192      0.001      -0.930      -0.222\n",
       "Pclass              -0.1315      0.026     -5.112      0.000      -0.182      -0.081\n",
       "Sex                 -0.6311      0.038    -16.437      0.000      -0.706      -0.556\n",
       "Age                 -0.0032      0.001     -2.759      0.006      -0.005      -0.001\n",
       "SibSp               -0.0267      0.012     -2.258      0.024      -0.050      -0.003\n",
       "Parch               -0.0124      0.014     -0.895      0.371      -0.040       0.015\n",
       "Ticket              -0.0001   6.62e-05     -1.619      0.106      -0.000    2.27e-05\n",
       "Fare                 0.0006      0.000      1.736      0.083   -7.37e-05       0.001\n",
       "Embarked            -0.0329      0.016     -2.037      0.042      -0.064      -0.001\n",
       "Bloc                -0.0052      0.011     -0.472      0.637      -0.027       0.016\n",
       "Relatives           -0.0391      0.006     -6.154      0.000      -0.052      -0.027\n",
       "==============================================================================\n",
       "Omnibus:                       45.072   Durbin-Watson:                   1.911\n",
       "Prob(Omnibus):                  0.000   Jarque-Bera (JB):               51.064\n",
       "Skew:                           0.548   Prob(JB):                     8.16e-12\n",
       "Kurtosis:                       3.416   Cond. No.                     1.39e+18\n",
       "==============================================================================\n",
       "\n",
       "Notes:\n",
       "[1] Standard Errors assume that the covariance matrix of the errors is correctly specified.\n",
       "[2] The smallest eigenvalue is 7.2e-29. This might indicate that there are\n",
       "strong multicollinearity problems or that the design matrix is singular.\n",
       "\"\"\""
      ]
     },
     "execution_count": 62,
     "metadata": {},
     "output_type": "execute_result"
    }
   ],
   "source": [
    "myModel1 = smf.ols(formula = \"Survived ~   Pclass  + Sex + Age + SibSp + Parch + Ticket + Fare + Embarked + Bloc + Relatives + Title \", data=df)\n",
    "result1 = myModel1.fit()\n",
    "result1.summary()\n"
   ]
  },
  {
   "cell_type": "code",
   "execution_count": 63,
   "id": "e9b72b38",
   "metadata": {},
   "outputs": [
    {
     "data": {
      "text/plain": [
       "(891, 14)"
      ]
     },
     "execution_count": 63,
     "metadata": {},
     "output_type": "execute_result"
    }
   ],
   "source": [
    "df.shape\n"
   ]
  },
  {
   "cell_type": "markdown",
   "id": "f5b2af87",
   "metadata": {},
   "source": [
    "- p-value for 0.05 significant level is 1.645\n",
    "- Reject Parch, Bloc, Fare\n"
   ]
  },
  {
   "cell_type": "code",
   "execution_count": 64,
   "id": "98f9ca1f",
   "metadata": {},
   "outputs": [
    {
     "data": {
      "text/html": [
       "<table class=\"simpletable\">\n",
       "<caption>OLS Regression Results</caption>\n",
       "<tr>\n",
       "  <th>Dep. Variable:</th>        <td>Survived</td>     <th>  R-squared:         </th> <td>   0.443</td> \n",
       "</tr>\n",
       "<tr>\n",
       "  <th>Model:</th>                   <td>OLS</td>       <th>  Adj. R-squared:    </th> <td>   0.436</td> \n",
       "</tr>\n",
       "<tr>\n",
       "  <th>Method:</th>             <td>Least Squares</td>  <th>  F-statistic:       </th> <td>   63.61</td> \n",
       "</tr>\n",
       "<tr>\n",
       "  <th>Date:</th>             <td>Mon, 12 Sep 2022</td> <th>  Prob (F-statistic):</th> <td>6.81e-104</td>\n",
       "</tr>\n",
       "<tr>\n",
       "  <th>Time:</th>                 <td>13:29:26</td>     <th>  Log-Likelihood:    </th> <td> -361.09</td> \n",
       "</tr>\n",
       "<tr>\n",
       "  <th>No. Observations:</th>      <td>   891</td>      <th>  AIC:               </th> <td>   746.2</td> \n",
       "</tr>\n",
       "<tr>\n",
       "  <th>Df Residuals:</th>          <td>   879</td>      <th>  BIC:               </th> <td>   803.7</td> \n",
       "</tr>\n",
       "<tr>\n",
       "  <th>Df Model:</th>              <td>    11</td>      <th>                     </th>     <td> </td>    \n",
       "</tr>\n",
       "<tr>\n",
       "  <th>Covariance Type:</th>      <td>nonrobust</td>    <th>                     </th>     <td> </td>    \n",
       "</tr>\n",
       "</table>\n",
       "<table class=\"simpletable\">\n",
       "<tr>\n",
       "          <td></td>            <th>coef</th>     <th>std err</th>      <th>t</th>      <th>P>|t|</th>  <th>[0.025</th>    <th>0.975]</th>  \n",
       "</tr>\n",
       "<tr>\n",
       "  <th>Intercept</th>        <td>    1.9447</td> <td>    0.091</td> <td>   21.469</td> <td> 0.000</td> <td>    1.767</td> <td>    2.122</td>\n",
       "</tr>\n",
       "<tr>\n",
       "  <th>Title[T.Miss]</th>    <td>   -0.6498</td> <td>    0.080</td> <td>   -8.090</td> <td> 0.000</td> <td>   -0.807</td> <td>   -0.492</td>\n",
       "</tr>\n",
       "<tr>\n",
       "  <th>Title[T.Mrs]</th>     <td>   -0.5537</td> <td>    0.071</td> <td>   -7.833</td> <td> 0.000</td> <td>   -0.692</td> <td>   -0.415</td>\n",
       "</tr>\n",
       "<tr>\n",
       "  <th>Title[T.Officer]</th> <td>   -0.5904</td> <td>    0.115</td> <td>   -5.149</td> <td> 0.000</td> <td>   -0.815</td> <td>   -0.365</td>\n",
       "</tr>\n",
       "<tr>\n",
       "  <th>Title[T.Royalty]</th> <td>   -0.5923</td> <td>    0.180</td> <td>   -3.283</td> <td> 0.001</td> <td>   -0.946</td> <td>   -0.238</td>\n",
       "</tr>\n",
       "<tr>\n",
       "  <th>Pclass</th>           <td>   -0.1596</td> <td>    0.017</td> <td>   -9.408</td> <td> 0.000</td> <td>   -0.193</td> <td>   -0.126</td>\n",
       "</tr>\n",
       "<tr>\n",
       "  <th>Sex</th>              <td>   -0.6290</td> <td>    0.038</td> <td>  -16.391</td> <td> 0.000</td> <td>   -0.704</td> <td>   -0.554</td>\n",
       "</tr>\n",
       "<tr>\n",
       "  <th>Age</th>              <td>   -0.0033</td> <td>    0.001</td> <td>   -2.840</td> <td> 0.005</td> <td>   -0.006</td> <td>   -0.001</td>\n",
       "</tr>\n",
       "<tr>\n",
       "  <th>SibSp</th>            <td>   -0.0178</td> <td>    0.025</td> <td>   -0.715</td> <td> 0.475</td> <td>   -0.067</td> <td>    0.031</td>\n",
       "</tr>\n",
       "<tr>\n",
       "  <th>Ticket</th>           <td>-8.574e-05</td> <td>  6.5e-05</td> <td>   -1.318</td> <td> 0.188</td> <td>   -0.000</td> <td> 4.19e-05</td>\n",
       "</tr>\n",
       "<tr>\n",
       "  <th>Embarked</th>         <td>   -0.0381</td> <td>    0.016</td> <td>   -2.401</td> <td> 0.017</td> <td>   -0.069</td> <td>   -0.007</td>\n",
       "</tr>\n",
       "<tr>\n",
       "  <th>Relatives</th>        <td>   -0.0449</td> <td>    0.018</td> <td>   -2.546</td> <td> 0.011</td> <td>   -0.079</td> <td>   -0.010</td>\n",
       "</tr>\n",
       "</table>\n",
       "<table class=\"simpletable\">\n",
       "<tr>\n",
       "  <th>Omnibus:</th>       <td>44.379</td> <th>  Durbin-Watson:     </th> <td>   1.908</td>\n",
       "</tr>\n",
       "<tr>\n",
       "  <th>Prob(Omnibus):</th> <td> 0.000</td> <th>  Jarque-Bera (JB):  </th> <td>  50.245</td>\n",
       "</tr>\n",
       "<tr>\n",
       "  <th>Skew:</th>          <td> 0.542</td> <th>  Prob(JB):          </th> <td>1.23e-11</td>\n",
       "</tr>\n",
       "<tr>\n",
       "  <th>Kurtosis:</th>      <td> 3.424</td> <th>  Cond. No.          </th> <td>6.38e+03</td>\n",
       "</tr>\n",
       "</table><br/><br/>Notes:<br/>[1] Standard Errors assume that the covariance matrix of the errors is correctly specified.<br/>[2] The condition number is large, 6.38e+03. This might indicate that there are<br/>strong multicollinearity or other numerical problems."
      ],
      "text/plain": [
       "<class 'statsmodels.iolib.summary.Summary'>\n",
       "\"\"\"\n",
       "                            OLS Regression Results                            \n",
       "==============================================================================\n",
       "Dep. Variable:               Survived   R-squared:                       0.443\n",
       "Model:                            OLS   Adj. R-squared:                  0.436\n",
       "Method:                 Least Squares   F-statistic:                     63.61\n",
       "Date:                Mon, 12 Sep 2022   Prob (F-statistic):          6.81e-104\n",
       "Time:                        13:29:26   Log-Likelihood:                -361.09\n",
       "No. Observations:                 891   AIC:                             746.2\n",
       "Df Residuals:                     879   BIC:                             803.7\n",
       "Df Model:                          11                                         \n",
       "Covariance Type:            nonrobust                                         \n",
       "====================================================================================\n",
       "                       coef    std err          t      P>|t|      [0.025      0.975]\n",
       "------------------------------------------------------------------------------------\n",
       "Intercept            1.9447      0.091     21.469      0.000       1.767       2.122\n",
       "Title[T.Miss]       -0.6498      0.080     -8.090      0.000      -0.807      -0.492\n",
       "Title[T.Mrs]        -0.5537      0.071     -7.833      0.000      -0.692      -0.415\n",
       "Title[T.Officer]    -0.5904      0.115     -5.149      0.000      -0.815      -0.365\n",
       "Title[T.Royalty]    -0.5923      0.180     -3.283      0.001      -0.946      -0.238\n",
       "Pclass              -0.1596      0.017     -9.408      0.000      -0.193      -0.126\n",
       "Sex                 -0.6290      0.038    -16.391      0.000      -0.704      -0.554\n",
       "Age                 -0.0033      0.001     -2.840      0.005      -0.006      -0.001\n",
       "SibSp               -0.0178      0.025     -0.715      0.475      -0.067       0.031\n",
       "Ticket           -8.574e-05    6.5e-05     -1.318      0.188      -0.000    4.19e-05\n",
       "Embarked            -0.0381      0.016     -2.401      0.017      -0.069      -0.007\n",
       "Relatives           -0.0449      0.018     -2.546      0.011      -0.079      -0.010\n",
       "==============================================================================\n",
       "Omnibus:                       44.379   Durbin-Watson:                   1.908\n",
       "Prob(Omnibus):                  0.000   Jarque-Bera (JB):               50.245\n",
       "Skew:                           0.542   Prob(JB):                     1.23e-11\n",
       "Kurtosis:                       3.424   Cond. No.                     6.38e+03\n",
       "==============================================================================\n",
       "\n",
       "Notes:\n",
       "[1] Standard Errors assume that the covariance matrix of the errors is correctly specified.\n",
       "[2] The condition number is large, 6.38e+03. This might indicate that there are\n",
       "strong multicollinearity or other numerical problems.\n",
       "\"\"\""
      ]
     },
     "execution_count": 64,
     "metadata": {},
     "output_type": "execute_result"
    }
   ],
   "source": [
    "myModel1 = smf.ols(formula = \"Survived ~   Pclass  + Sex + Age + SibSp + Ticket  + Embarked + Relatives + Title \", data=df)\n",
    "result1 = myModel1.fit()\n",
    "result1.summary()\n"
   ]
  },
  {
   "cell_type": "markdown",
   "id": "57ff0188",
   "metadata": {},
   "source": [
    "- As noticed the AIC decreses from 745.6 to 746.2\n",
    "- BIC from 812.3 to 803.7"
   ]
  },
  {
   "cell_type": "code",
   "execution_count": 65,
   "id": "2e5fec53",
   "metadata": {},
   "outputs": [],
   "source": [
    "X=df[['Sex','Age','Relatives','Title','Embarked','Pclass']] # selected features \n",
    "Y= df['Survived']# select the target survived\n",
    "# split  data into train and test test_size =0.3\n",
    "X_train, X_test, Y_train, Y_test= train_test_split(X, Y, test_size=0.30, random_state=123)"
   ]
  },
  {
   "cell_type": "code",
   "execution_count": 66,
   "id": "4a9f31f0",
   "metadata": {},
   "outputs": [
    {
     "name": "stderr",
     "output_type": "stream",
     "text": [
      "C:\\Users\\HP\\AppData\\Local\\Temp/ipykernel_14068/3351428573.py:1: SettingWithCopyWarning: \n",
      "A value is trying to be set on a copy of a slice from a DataFrame.\n",
      "Try using .loc[row_indexer,col_indexer] = value instead\n",
      "\n",
      "See the caveats in the documentation: https://pandas.pydata.org/pandas-docs/stable/user_guide/indexing.html#returning-a-view-versus-a-copy\n",
      "  X_train['Title']= encoder.fit_transform(X_train['Title'])\n",
      "C:\\Users\\HP\\AppData\\Local\\Temp/ipykernel_14068/3351428573.py:2: SettingWithCopyWarning: \n",
      "A value is trying to be set on a copy of a slice from a DataFrame.\n",
      "Try using .loc[row_indexer,col_indexer] = value instead\n",
      "\n",
      "See the caveats in the documentation: https://pandas.pydata.org/pandas-docs/stable/user_guide/indexing.html#returning-a-view-versus-a-copy\n",
      "  X_test['Title']= encoder.transform(X_test['Title'])\n",
      "C:\\Users\\HP\\AppData\\Local\\Temp/ipykernel_14068/2423762491.py:6: SettingWithCopyWarning: \n",
      "A value is trying to be set on a copy of a slice from a DataFrame.\n",
      "Try using .loc[row_indexer,col_indexer] = value instead\n",
      "\n",
      "See the caveats in the documentation: https://pandas.pydata.org/pandas-docs/stable/user_guide/indexing.html#returning-a-view-versus-a-copy\n",
      "  df[column] = (df[column] - mu)/sigma\n"
     ]
    }
   ],
   "source": [
    "X_train['Title']= encoder.fit_transform(X_train['Title'])\n",
    "X_test['Title']= encoder.transform(X_test['Title'])\n",
    "normalize(X_train)\n",
    "normalize(X_test)"
   ]
  },
  {
   "cell_type": "code",
   "execution_count": 67,
   "id": "6ce995f0",
   "metadata": {},
   "outputs": [
    {
     "data": {
      "text/plain": [
       "0.8022388059701493"
      ]
     },
     "execution_count": 67,
     "metadata": {},
     "output_type": "execute_result"
    }
   ],
   "source": [
    "model =LogisticRegression(fit_intercept=True)\n",
    "model.fit(X_train.values,Y_train.values)\n",
    "Y_pred = model.predict(X_test)\n",
    "score =accuracy_score(Y_test,Y_pred) \n",
    "score"
   ]
  },
  {
   "cell_type": "markdown",
   "id": "2e1a29bd",
   "metadata": {},
   "source": [
    "# What is Roc Curve "
   ]
  },
  {
   "cell_type": "markdown",
   "id": "a7f61179",
   "metadata": {},
   "source": [
    "The ROC curve summarizes the prediction performance of a classification model at all classification thresholds. Particularly, the ROC curve plots the False Positive Rate (FPR) on the X-axis and the True Positive Rate (TPR) on the Y-axis.\n",
    "- TPR = TP/(TP+ FN)\n",
    "- FPR = FP/(FP+ TN)"
   ]
  },
  {
   "cell_type": "markdown",
   "id": "37e01105",
   "metadata": {},
   "source": [
    "# What is AUC Curve "
   ]
  },
  {
   "cell_type": "markdown",
   "id": "6fb6d460",
   "metadata": {},
   "source": [
    "AUCR is the area under the ROC curve"
   ]
  },
  {
   "cell_type": "code",
   "execution_count": 68,
   "id": "623c1cd9",
   "metadata": {},
   "outputs": [
    {
     "name": "stdout",
     "output_type": "stream",
     "text": [
      "Random (chance) Prediction: AUROC = 0.500\n",
      " AUROC = 0.785\n"
     ]
    }
   ],
   "source": [
    "random_pred = [0 for _ in range(len(Y_test))]\n",
    "random_auc = roc_auc_score(Y_test, random_pred)\n",
    "logReg_auc = roc_auc_score(Y_test, Y_pred)\n",
    "print('Random (chance) Prediction: AUROC = %.3f' % (random_auc))\n",
    "print(' AUROC = %.3f' % (logReg_auc))"
   ]
  },
  {
   "cell_type": "code",
   "execution_count": 69,
   "id": "8b115d8d",
   "metadata": {},
   "outputs": [],
   "source": [
    "random_fpr, random_tpr, _ = roc_curve(Y_test, random_pred)\n",
    "logReg_fpr, logReg_tpr, _ = roc_curve(Y_test,Y_pred)"
   ]
  },
  {
   "cell_type": "code",
   "execution_count": 70,
   "id": "2ef6933f",
   "metadata": {},
   "outputs": [
    {
     "data": {
      "image/png": "[encoded data removed]",
      "text/plain": [
       "<Figure size 432x288 with 1 Axes>"
      ]
     },
     "metadata": {
      "needs_background": "light"
     },
     "output_type": "display_data"
    }
   ],
   "source": [
    "plt.plot(random_fpr, random_tpr, linestyle='--', label='Random prediction (AUROC = %0.3f)' % random_auc)\n",
    "plt.plot(logReg_fpr, logReg_tpr, marker='.', label='Logistic Regression (AUROC = %0.3f)' % logReg_auc)\n",
    "\n",
    "# Title\n",
    "plt.title('ROC Plot')\n",
    "# Axis labels\n",
    "plt.xlabel('False Positive Rate')\n",
    "plt.ylabel('True Positive Rate')\n",
    "# Show legend\n",
    "plt.legend() # \n",
    "# Show plot\n",
    "plt.show()"
   ]
  },
  {
   "cell_type": "markdown",
   "id": "f80bd83b",
   "metadata": {},
   "source": [
    "- Apropriate threshold ~0.2 which maximize TPR and minimize FPR "
   ]
  }
 ],
 "metadata": {
  "kernelspec": {
   "display_name": "Python 3 (ipykernel)",
   "language": "python",
   "name": "python3"
  },
  "language_info": {
   "codemirror_mode": {
    "name": "ipython",
    "version": 3
   },
   "file_extension": ".py",
   "mimetype": "text/x-python",
   "name": "python",
   "nbconvert_exporter": "python",
   "pygments_lexer": "ipython3",
   "version": "3.9.7"
  }
 },
 "nbformat": 4,
 "nbformat_minor": 5
}
